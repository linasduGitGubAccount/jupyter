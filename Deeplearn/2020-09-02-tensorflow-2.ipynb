{
 "metadata": {
  "language_info": {
   "codemirror_mode": {
    "name": "ipython",
    "version": 3
   },
   "file_extension": ".py",
   "mimetype": "text/x-python",
   "name": "python",
   "nbconvert_exporter": "python",
   "pygments_lexer": "ipython3",
   "version": "3.5.6-final"
  },
  "orig_nbformat": 2,
  "kernelspec": {
   "name": "python_defaultSpec_1599122677327",
   "display_name": "Python 3.5.6 64-bit ('python35': conda)"
  }
 },
 "nbformat": 4,
 "nbformat_minor": 2,
 "cells": [
  {
   "cell_type": "markdown",
   "metadata": {},
   "source": [
    "# Tensorflow文件的读取"
   ]
  },
  {
   "cell_type": "code",
   "execution_count": 1,
   "metadata": {},
   "outputs": [],
   "source": [
    "import tensorflow as tf\n",
    "import os"
   ]
  },
  {
   "cell_type": "markdown",
   "metadata": {},
   "source": [
    "模拟一下同步先处理数据，然后才能取出数据"
   ]
  },
  {
   "cell_type": "code",
   "execution_count": 2,
   "metadata": {},
   "outputs": [],
   "source": [
    "# 首先定义队列\n",
    "Q=tf.FIFOQueue(3,tf.float32)\n",
    "\n",
    "# 放入一些数据\n",
    "enq_many=Q.enqueue_many([[0.1,0.2,0.3],])"
   ]
  },
  {
   "cell_type": "code",
   "execution_count": 3,
   "metadata": {},
   "outputs": [],
   "source": [
    "# 定义取数据的过程\n",
    "out_q=Q.dequeue()\n",
    "data=out_q+1\n",
    "en_q=Q.enqueue(data)"
   ]
  },
  {
   "cell_type": "code",
   "execution_count": 6,
   "metadata": {
    "tags": []
   },
   "outputs": [
    {
     "output_type": "stream",
     "name": "stdout",
     "text": "33.2\n33.3\n34.1\n"
    }
   ],
   "source": [
    "with tf.Session() as sess:\n",
    "    # 初始化队列\n",
    "    sess.run(enq_many)\n",
    "    # 处理数据\n",
    "    for i in range(100):\n",
    "        sess.run(en_q)\n",
    "    # 训练数据\n",
    "    for i in range(Q.size().eval()):\n",
    "         print(sess.run(Q.dequeue()))"
   ]
  },
  {
   "cell_type": "markdown",
   "metadata": {},
   "source": [
    "模拟异步，子线程存入样本，主线程，读取样本"
   ]
  },
  {
   "cell_type": "code",
   "execution_count": 2,
   "metadata": {},
   "outputs": [],
   "source": [
    "# 定义一个队列，1000\n",
    "Q=tf.FIFOQueue(1000,tf.float32)"
   ]
  },
  {
   "cell_type": "code",
   "execution_count": 3,
   "metadata": {},
   "outputs": [],
   "source": [
    "# 定义子线程要做的事情：循环，加一，放入队列\n",
    "var=tf.Variable(0.0)\n",
    "# 实现自增\n",
    "data=tf.assign_add(var,tf.constant(1.0))\n",
    "en_q=Q.enqueue(data)"
   ]
  },
  {
   "cell_type": "code",
   "execution_count": 4,
   "metadata": {},
   "outputs": [],
   "source": [
    "# 定义队列管理器op，定义多少个子线程，子线程该干的事情\n",
    "qr=tf.train.QueueRunner(Q,enqueue_ops=[en_q]*2)"
   ]
  },
  {
   "cell_type": "code",
   "execution_count": 5,
   "metadata": {},
   "outputs": [],
   "source": [
    "# 初始化变量op\n",
    "init_op=tf.global_variables_initializer()"
   ]
  },
  {
   "cell_type": "code",
   "execution_count": 6,
   "metadata": {
    "tags": []
   },
   "outputs": [
    {
     "output_type": "stream",
     "name": "stdout",
     "text": "8.0\n16.0\n28.0\n36.0\n44.0\n53.0\n61.0\n68.0\n74.0\n77.0\n85.0\n95.0\n104.0\n114.0\n125.0\n132.0\n141.0\n148.0\n158.0\n165.0\n174.0\n185.0\n194.0\n203.0\n212.0\n219.0\n226.0\n233.0\n239.0\n247.0\n256.0\n260.0\n268.0\n274.0\n286.0\n292.0\n299.0\n305.0\n311.0\n320.0\n326.0\n337.0\n346.0\n354.0\n362.0\n368.0\n375.0\n385.0\n398.0\n406.0\n413.0\n420.0\n426.0\n434.0\n442.0\n450.0\n460.0\n467.0\n475.0\n483.0\n489.0\n497.0\n504.0\n514.0\n522.0\n532.0\n546.0\n559.0\n568.0\n578.0\n587.0\n595.0\n602.0\n612.0\n622.0\n627.0\n635.0\n642.0\n648.0\n656.0\n664.0\n670.0\n679.0\n684.0\n691.0\n698.0\n704.0\n712.0\n722.0\n729.0\n736.0\n742.0\n748.0\n760.0\n767.0\n773.0\n781.0\n790.0\n797.0\n803.0\n814.0\n821.0\n840.0\n852.0\n862.0\n871.0\n882.0\n890.0\n897.0\n907.0\n913.0\n921.0\n929.0\n938.0\n943.0\n951.0\n957.0\n966.0\n973.0\n980.0\n989.0\n995.0\n1003.0\n1010.0\n1022.0\n1033.0\n1042.0\n1050.0\n1058.0\n1067.0\n1075.0\n1085.0\n1093.0\n1098.0\n1110.0\n1118.0\n1125.0\n1131.0\n1140.0\n1141.0\n1142.0\n1143.0\n1144.0\n1145.0\n1146.0\n1147.0\n1148.0\n1149.0\n1150.0\n1151.0\n1152.0\n1153.0\n1154.0\n1155.0\n1156.0\n1157.0\n1158.0\n1159.0\n1160.0\n1161.0\n1162.0\n1163.0\n1164.0\n1165.0\n1166.0\n1167.0\n1168.0\n1169.0\n1170.0\n1171.0\n1173.0\n1173.0\n1174.0\n1175.0\n1176.0\n1177.0\n1178.0\n1179.0\n1180.0\n1181.0\n1182.0\n1183.0\n1184.0\n1185.0\n1186.0\n1187.0\n1189.0\n1189.0\n1190.0\n1191.0\n1192.0\n1193.0\n1195.0\n1196.0\n1196.0\n1197.0\n1198.0\n1199.0\n1200.0\n1201.0\n1202.0\n1203.0\n1204.0\n1205.0\n1206.0\n1207.0\n1208.0\n1209.0\n1210.0\n1211.0\n1212.0\n1213.0\n1214.0\n1215.0\n1216.0\n1217.0\n1218.0\n1219.0\n1220.0\n1221.0\n1222.0\n1223.0\n1224.0\n1225.0\n1226.0\n1227.0\n1228.0\n1229.0\n1230.0\n1231.0\n1233.0\n1233.0\n1234.0\n1235.0\n1236.0\n1237.0\n1238.0\n1239.0\n1240.0\n1241.0\n1242.0\n1243.0\n1244.0\n1245.0\n1246.0\n1247.0\n1248.0\n1249.0\n1250.0\n1251.0\n1252.0\n1253.0\n1254.0\n1255.0\n1256.0\n1257.0\n1258.0\n1259.0\n1260.0\n1261.0\n1262.0\n1263.0\n1264.0\n1265.0\n1266.0\n1267.0\n1268.0\n1269.0\n1270.0\n1271.0\n1272.0\n1273.0\n1274.0\n1275.0\n1276.0\n1277.0\n1278.0\n1279.0\n1280.0\n1281.0\n1282.0\n1283.0\n1284.0\n1285.0\n1286.0\n1287.0\n1288.0\n1289.0\n1290.0\n1291.0\n1292.0\n1293.0\n1294.0\n1295.0\n1296.0\n1297.0\n1298.0\n1299.0\n1300.0\n1301.0\n"
    }
   ],
   "source": [
    "with tf.Session() as sess:\n",
    "    # 初始化变量\n",
    "    sess.run(init_op)\n",
    "\n",
    "    # 开启线程管理器\n",
    "    coord=tf.train.Coordinator()\n",
    "\n",
    "    # 真正开启子线程\n",
    "    threads=qr.create_threads(sess,coord=coord,start=True)\n",
    "\n",
    "    # 主线程，不断读取数据\n",
    "    for i in range(300):\n",
    "        print(sess.run(Q.dequeue()))\n",
    "\n",
    "    # 回收子线程\n",
    "    coord.request_stop()\n",
    "    coord.join(threads)"
   ]
  },
  {
   "cell_type": "markdown",
   "metadata": {},
   "source": [
    "## 文件读取API"
   ]
  },
  {
   "cell_type": "code",
   "execution_count": 1,
   "metadata": {},
   "outputs": [],
   "source": [
    "import tensorflow as tf\n",
    "import os"
   ]
  },
  {
   "cell_type": "code",
   "execution_count": 2,
   "metadata": {
    "tags": []
   },
   "outputs": [
    {
     "output_type": "stream",
     "name": "stdout",
     "text": "['./Data/day_2/sample_submission.csv', './Data/day_2/test.csv', './Data/day_2/train.csv']\n"
    }
   ],
   "source": [
    "# 找到文件，放入列表,放入列表\n",
    "file_name=os.listdir('./Data/day_2/')\n",
    "flielist=[os.path.join('./Data/day_2/',file) for file in file_name]\n",
    "print(flielist)"
   ]
  },
  {
   "cell_type": "code",
   "execution_count": 3,
   "metadata": {},
   "outputs": [],
   "source": [
    "# 1、构造文件队列\n",
    "file_queue=tf.train.string_input_producer(flielist)"
   ]
  },
  {
   "cell_type": "code",
   "execution_count": 4,
   "metadata": {
    "tags": []
   },
   "outputs": [
    {
     "output_type": "stream",
     "name": "stdout",
     "text": "Tensor(\"ReaderReadV2:1\", shape=(), dtype=string)\n"
    }
   ],
   "source": [
    "# 2、构造阅读器读取数据（按一行）\n",
    "reader=tf.TextLineReader()\n",
    "key,value=reader.read(file_queue)\n",
    "print(value)"
   ]
  },
  {
   "cell_type": "code",
   "execution_count": 5,
   "metadata": {
    "tags": []
   },
   "outputs": [],
   "source": [
    "# 3、对每行内容进行解码\n",
    "# record_defaults:指定每一个样本的每一列的类型，指定默认值\n",
    "records=[['None'],['None']]\n",
    "example,label=tf.decode_csv(value,record_defaults=records)\n",
    "# print(example,label)"
   ]
  },
  {
   "cell_type": "code",
   "execution_count": 6,
   "metadata": {},
   "outputs": [],
   "source": [
    "# 4、读取多个数据，批处理\n",
    "# batch_size决定每次取多少数据，和capacity大小没有关系\n",
    "# batch_size超过样本容量也没关系，超过容量后，从头开始取\n",
    "# 一般设置batch_size=capacity\n",
    "\n",
    "example_batch,label_batch=tf.train.batch([example,label],batch_size=9,num_threads=1,capacity=9)\n",
    "\n",
    "# example_batch,label_batch=csvread(flielist)"
   ]
  },
  {
   "cell_type": "code",
   "execution_count": 7,
   "metadata": {
    "tags": []
   },
   "outputs": [
    {
     "output_type": "stream",
     "name": "stdout",
     "text": "[array([b'row_id', b'0', b'1', b'2', b'3', b'4', b'5', b'6', b'7'],\n      dtype=object), array([b'place_id', b'3073560757 9004412889 5652080691',\n       b'1652178628 4379515211 6612350960',\n       b'4894407065 3920195083 7608574746',\n       b'7272466660 2004687925 1455486822',\n       b'4720452725 4967325204 4782917866',\n       b'1283939222 8208358948 2070306016',\n       b'6021764482 7803008413 1644190109',\n       b'7202788043 1649564607 2246348076'], dtype=object)]\n"
    }
   ],
   "source": [
    "# 开启会话运行结构\n",
    "with tf.Session() as sess:\n",
    "    # 定义一个线程协调器\n",
    "    coord=tf.train.Coordinator()\n",
    "\n",
    "    # 开启读取文件的线程\n",
    "    threads=tf.train.start_queue_runners(sess,coord=coord)\n",
    "\n",
    "    # 打印读取内容\n",
    "    print(sess.run([example_batch,label_batch]))\n",
    "\n",
    "    # 回收子线程\n",
    "    coord.request_stop()\n",
    "    coord.join(threads)"
   ]
  },
  {
   "cell_type": "code",
   "execution_count": null,
   "metadata": {},
   "outputs": [],
   "source": []
  }
 ]
}