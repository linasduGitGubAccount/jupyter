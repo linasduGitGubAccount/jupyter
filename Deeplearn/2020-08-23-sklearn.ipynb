{
 "metadata": {
  "language_info": {
   "codemirror_mode": {
    "name": "ipython",
    "version": 3
   },
   "file_extension": ".py",
   "mimetype": "text/x-python",
   "name": "python",
   "nbconvert_exporter": "python",
   "pygments_lexer": "ipython3",
   "version": "3.8.3-final"
  },
  "orig_nbformat": 2,
  "kernelspec": {
   "name": "python_defaultSpec_1598123712679",
   "display_name": "Python 3.8.3 64-bit ('base': conda)"
  }
 },
 "nbformat": 4,
 "nbformat_minor": 2,
 "cells": [
  {
   "cell_type": "markdown",
   "metadata": {},
   "source": [
    "# sklearn的学习"
   ]
  },
  {
   "cell_type": "code",
   "execution_count": 2,
   "metadata": {},
   "outputs": [],
   "source": [
    "from sklearn.datasets import load_iris"
   ]
  },
  {
   "cell_type": "markdown",
   "metadata": {},
   "source": [
    "## sklearn数据  \n",
    "数据分类：  \n",
    "* 训练集（75%）：用于建立模型  \n",
    "* 测试集（25%）：用来测试模型  \n",
    "\n",
    "加载获取的数据API：\n",
    "* datasets.load_*():获取小规模数据集，数据包含在datasets里  \n",
    "* datasets.fetch_*(data_home=None)：获取大规模数据集，需要从网络上下载，函数的第一个参数是data_home，表示数据集下载的目录,默认是 ~/scikit_learn_data/  \n",
    "\n",
    "获取数据集返回的类型  \n",
    "* load和fetch*返回的数据类型datasets.base.Bunch(字典格式)  \n",
    "--data：特征数据数组,是(n_samples,n_features)的二维numpy.ndarray 数组  \n",
    "--target：标签数组,是n_samples 的一维 numpy.ndarray 数组  \n",
    "--DESCR：数据描述  \n",
    "--feature_names：特征名,新闻数据，手写数字、回归数据集没有  \n",
    "--target_names：标签名,回归数据集没有\n",
    "\n"
   ]
  },
  {
   "cell_type": "code",
   "execution_count": 3,
   "metadata": {
    "tags": []
   },
   "outputs": [
    {
     "output_type": "stream",
     "name": "stdout",
     "text": "获取特征值\n[[5.1 3.5 1.4 0.2]\n [4.9 3.  1.4 0.2]\n [4.7 3.2 1.3 0.2]\n [4.6 3.1 1.5 0.2]\n [5.  3.6 1.4 0.2]\n [5.4 3.9 1.7 0.4]\n [4.6 3.4 1.4 0.3]\n [5.  3.4 1.5 0.2]\n [4.4 2.9 1.4 0.2]\n [4.9 3.1 1.5 0.1]\n [5.4 3.7 1.5 0.2]\n [4.8 3.4 1.6 0.2]\n [4.8 3.  1.4 0.1]\n [4.3 3.  1.1 0.1]\n [5.8 4.  1.2 0.2]\n [5.7 4.4 1.5 0.4]\n [5.4 3.9 1.3 0.4]\n [5.1 3.5 1.4 0.3]\n [5.7 3.8 1.7 0.3]\n [5.1 3.8 1.5 0.3]\n [5.4 3.4 1.7 0.2]\n [5.1 3.7 1.5 0.4]\n [4.6 3.6 1.  0.2]\n [5.1 3.3 1.7 0.5]\n [4.8 3.4 1.9 0.2]\n [5.  3.  1.6 0.2]\n [5.  3.4 1.6 0.4]\n [5.2 3.5 1.5 0.2]\n [5.2 3.4 1.4 0.2]\n [4.7 3.2 1.6 0.2]\n [4.8 3.1 1.6 0.2]\n [5.4 3.4 1.5 0.4]\n [5.2 4.1 1.5 0.1]\n [5.5 4.2 1.4 0.2]\n [4.9 3.1 1.5 0.2]\n [5.  3.2 1.2 0.2]\n [5.5 3.5 1.3 0.2]\n [4.9 3.6 1.4 0.1]\n [4.4 3.  1.3 0.2]\n [5.1 3.4 1.5 0.2]\n [5.  3.5 1.3 0.3]\n [4.5 2.3 1.3 0.3]\n [4.4 3.2 1.3 0.2]\n [5.  3.5 1.6 0.6]\n [5.1 3.8 1.9 0.4]\n [4.8 3.  1.4 0.3]\n [5.1 3.8 1.6 0.2]\n [4.6 3.2 1.4 0.2]\n [5.3 3.7 1.5 0.2]\n [5.  3.3 1.4 0.2]\n [7.  3.2 4.7 1.4]\n [6.4 3.2 4.5 1.5]\n [6.9 3.1 4.9 1.5]\n [5.5 2.3 4.  1.3]\n [6.5 2.8 4.6 1.5]\n [5.7 2.8 4.5 1.3]\n [6.3 3.3 4.7 1.6]\n [4.9 2.4 3.3 1. ]\n [6.6 2.9 4.6 1.3]\n [5.2 2.7 3.9 1.4]\n [5.  2.  3.5 1. ]\n [5.9 3.  4.2 1.5]\n [6.  2.2 4.  1. ]\n [6.1 2.9 4.7 1.4]\n [5.6 2.9 3.6 1.3]\n [6.7 3.1 4.4 1.4]\n [5.6 3.  4.5 1.5]\n [5.8 2.7 4.1 1. ]\n [6.2 2.2 4.5 1.5]\n [5.6 2.5 3.9 1.1]\n [5.9 3.2 4.8 1.8]\n [6.1 2.8 4.  1.3]\n [6.3 2.5 4.9 1.5]\n [6.1 2.8 4.7 1.2]\n [6.4 2.9 4.3 1.3]\n [6.6 3.  4.4 1.4]\n [6.8 2.8 4.8 1.4]\n [6.7 3.  5.  1.7]\n [6.  2.9 4.5 1.5]\n [5.7 2.6 3.5 1. ]\n [5.5 2.4 3.8 1.1]\n [5.5 2.4 3.7 1. ]\n [5.8 2.7 3.9 1.2]\n [6.  2.7 5.1 1.6]\n [5.4 3.  4.5 1.5]\n [6.  3.4 4.5 1.6]\n [6.7 3.1 4.7 1.5]\n [6.3 2.3 4.4 1.3]\n [5.6 3.  4.1 1.3]\n [5.5 2.5 4.  1.3]\n [5.5 2.6 4.4 1.2]\n [6.1 3.  4.6 1.4]\n [5.8 2.6 4.  1.2]\n [5.  2.3 3.3 1. ]\n [5.6 2.7 4.2 1.3]\n [5.7 3.  4.2 1.2]\n [5.7 2.9 4.2 1.3]\n [6.2 2.9 4.3 1.3]\n [5.1 2.5 3.  1.1]\n [5.7 2.8 4.1 1.3]\n [6.3 3.3 6.  2.5]\n [5.8 2.7 5.1 1.9]\n [7.1 3.  5.9 2.1]\n [6.3 2.9 5.6 1.8]\n [6.5 3.  5.8 2.2]\n [7.6 3.  6.6 2.1]\n [4.9 2.5 4.5 1.7]\n [7.3 2.9 6.3 1.8]\n [6.7 2.5 5.8 1.8]\n [7.2 3.6 6.1 2.5]\n [6.5 3.2 5.1 2. ]\n [6.4 2.7 5.3 1.9]\n [6.8 3.  5.5 2.1]\n [5.7 2.5 5.  2. ]\n [5.8 2.8 5.1 2.4]\n [6.4 3.2 5.3 2.3]\n [6.5 3.  5.5 1.8]\n [7.7 3.8 6.7 2.2]\n [7.7 2.6 6.9 2.3]\n [6.  2.2 5.  1.5]\n [6.9 3.2 5.7 2.3]\n [5.6 2.8 4.9 2. ]\n [7.7 2.8 6.7 2. ]\n [6.3 2.7 4.9 1.8]\n [6.7 3.3 5.7 2.1]\n [7.2 3.2 6.  1.8]\n [6.2 2.8 4.8 1.8]\n [6.1 3.  4.9 1.8]\n [6.4 2.8 5.6 2.1]\n [7.2 3.  5.8 1.6]\n [7.4 2.8 6.1 1.9]\n [7.9 3.8 6.4 2. ]\n [6.4 2.8 5.6 2.2]\n [6.3 2.8 5.1 1.5]\n [6.1 2.6 5.6 1.4]\n [7.7 3.  6.1 2.3]\n [6.3 3.4 5.6 2.4]\n [6.4 3.1 5.5 1.8]\n [6.  3.  4.8 1.8]\n [6.9 3.1 5.4 2.1]\n [6.7 3.1 5.6 2.4]\n [6.9 3.1 5.1 2.3]\n [5.8 2.7 5.1 1.9]\n [6.8 3.2 5.9 2.3]\n [6.7 3.3 5.7 2.5]\n [6.7 3.  5.2 2.3]\n [6.3 2.5 5.  1.9]\n [6.5 3.  5.2 2. ]\n [6.2 3.4 5.4 2.3]\n [5.9 3.  5.1 1.8]]\n目标值\n[0 0 0 0 0 0 0 0 0 0 0 0 0 0 0 0 0 0 0 0 0 0 0 0 0 0 0 0 0 0 0 0 0 0 0 0 0\n 0 0 0 0 0 0 0 0 0 0 0 0 0 1 1 1 1 1 1 1 1 1 1 1 1 1 1 1 1 1 1 1 1 1 1 1 1\n 1 1 1 1 1 1 1 1 1 1 1 1 1 1 1 1 1 1 1 1 1 1 1 1 1 1 2 2 2 2 2 2 2 2 2 2 2\n 2 2 2 2 2 2 2 2 2 2 2 2 2 2 2 2 2 2 2 2 2 2 2 2 2 2 2 2 2 2 2 2 2 2 2 2 2\n 2 2]\n"
    }
   ],
   "source": [
    "li=load_iris()\n",
    "print('获取特征值')\n",
    "print(li.data)\n",
    "print('目标值')\n",
    "print(li.target)"
   ]
  },
  {
   "cell_type": "code",
   "execution_count": 4,
   "metadata": {
    "tags": []
   },
   "outputs": [
    {
     "output_type": "stream",
     "name": "stdout",
     "text": ".. _iris_dataset:\n\nIris plants dataset\n--------------------\n\n**Data Set Characteristics:**\n\n    :Number of Instances: 150 (50 in each of three classes)\n    :Number of Attributes: 4 numeric, predictive attributes and the class\n    :Attribute Information:\n        - sepal length in cm\n        - sepal width in cm\n        - petal length in cm\n        - petal width in cm\n        - class:\n                - Iris-Setosa\n                - Iris-Versicolour\n                - Iris-Virginica\n                \n    :Summary Statistics:\n\n    ============== ==== ==== ======= ===== ====================\n                    Min  Max   Mean    SD   Class Correlation\n    ============== ==== ==== ======= ===== ====================\n    sepal length:   4.3  7.9   5.84   0.83    0.7826\n    sepal width:    2.0  4.4   3.05   0.43   -0.4194\n    petal length:   1.0  6.9   3.76   1.76    0.9490  (high!)\n    petal width:    0.1  2.5   1.20   0.76    0.9565  (high!)\n    ============== ==== ==== ======= ===== ====================\n\n    :Missing Attribute Values: None\n    :Class Distribution: 33.3% for each of 3 classes.\n    :Creator: R.A. Fisher\n    :Donor: Michael Marshall (MARSHALL%PLU@io.arc.nasa.gov)\n    :Date: July, 1988\n\nThe famous Iris database, first used by Sir R.A. Fisher. The dataset is taken\nfrom Fisher's paper. Note that it's the same as in R, but not as in the UCI\nMachine Learning Repository, which has two wrong data points.\n\nThis is perhaps the best known database to be found in the\npattern recognition literature.  Fisher's paper is a classic in the field and\nis referenced frequently to this day.  (See Duda & Hart, for example.)  The\ndata set contains 3 classes of 50 instances each, where each class refers to a\ntype of iris plant.  One class is linearly separable from the other 2; the\nlatter are NOT linearly separable from each other.\n\n.. topic:: References\n\n   - Fisher, R.A. \"The use of multiple measurements in taxonomic problems\"\n     Annual Eugenics, 7, Part II, 179-188 (1936); also in \"Contributions to\n     Mathematical Statistics\" (John Wiley, NY, 1950).\n   - Duda, R.O., & Hart, P.E. (1973) Pattern Classification and Scene Analysis.\n     (Q327.D83) John Wiley & Sons.  ISBN 0-471-22361-1.  See page 218.\n   - Dasarathy, B.V. (1980) \"Nosing Around the Neighborhood: A New System\n     Structure and Classification Rule for Recognition in Partially Exposed\n     Environments\".  IEEE Transactions on Pattern Analysis and Machine\n     Intelligence, Vol. PAMI-2, No. 1, 67-71.\n   - Gates, G.W. (1972) \"The Reduced Nearest Neighbor Rule\".  IEEE Transactions\n     on Information Theory, May 1972, 431-433.\n   - See also: 1988 MLC Proceedings, 54-64.  Cheeseman et al\"s AUTOCLASS II\n     conceptual clustering system finds 3 classes in the data.\n   - Many, many more ...\n"
    }
   ],
   "source": [
    "print(li.DESCR)"
   ]
  },
  {
   "cell_type": "code",
   "execution_count": 5,
   "metadata": {
    "tags": []
   },
   "outputs": [
    {
     "output_type": "stream",
     "name": "stdout",
     "text": "['sepal length (cm)', 'sepal width (cm)', 'petal length (cm)', 'petal width (cm)']\n"
    }
   ],
   "source": [
    "print(li.feature_names)"
   ]
  },
  {
   "cell_type": "code",
   "execution_count": 6,
   "metadata": {
    "tags": []
   },
   "outputs": [
    {
     "output_type": "stream",
     "name": "stdout",
     "text": "['setosa' 'versicolor' 'virginica']\n"
    }
   ],
   "source": [
    "print(li.target_names)"
   ]
  },
  {
   "cell_type": "markdown",
   "metadata": {},
   "source": [
    "## 数据集划分  \n",
    "### sklearn.model_selection.train_test_split(*arrays, **options)  \n",
    "* x：数据集的特征值  \n",
    "* y：数据集的标签值  \n",
    "* test_size：测试集的大小，一般为float  \n",
    "* random_state：随机数种子,不同的种子会造成不同的随机采样结果。相同的种子采样结果相同。  \n",
    "* return：训练集特征值，测试集特征值，训练标签，测试标签(默认随机取)\t"
   ]
  },
  {
   "cell_type": "code",
   "execution_count": 8,
   "metadata": {},
   "outputs": [],
   "source": [
    "from sklearn.model_selection import train_test_split"
   ]
  },
  {
   "cell_type": "code",
   "execution_count": 9,
   "metadata": {},
   "outputs": [],
   "source": [
    "li=load_iris()\n",
    "x_train,x_test,y_train,y_test=train_test_split(li.data,li.target,test_size=0.25)"
   ]
  },
  {
   "cell_type": "code",
   "execution_count": 10,
   "metadata": {
    "tags": []
   },
   "outputs": [
    {
     "output_type": "stream",
     "name": "stdout",
     "text": "训练集特征值和目标值: [[6.3 2.9 5.6 1.8]\n [5.4 3.  4.5 1.5]\n [6.7 2.5 5.8 1.8]\n [5.7 2.6 3.5 1. ]\n [5.  3.  1.6 0.2]\n [6.2 2.2 4.5 1.5]\n [4.8 3.4 1.9 0.2]\n [4.6 3.2 1.4 0.2]\n [4.8 3.  1.4 0.3]\n [6.  3.  4.8 1.8]\n [5.1 3.8 1.5 0.3]\n [4.7 3.2 1.3 0.2]\n [7.7 2.8 6.7 2. ]\n [5.4 3.9 1.3 0.4]\n [6.6 2.9 4.6 1.3]\n [7.4 2.8 6.1 1.9]\n [6.4 2.8 5.6 2.2]\n [6.3 2.5 4.9 1.5]\n [5.6 2.8 4.9 2. ]\n [5.  3.3 1.4 0.2]\n [5.  3.4 1.5 0.2]\n [6.1 2.9 4.7 1.4]\n [6.8 3.  5.5 2.1]\n [6.2 3.4 5.4 2.3]\n [6.7 3.  5.  1.7]\n [4.4 2.9 1.4 0.2]\n [5.4 3.7 1.5 0.2]\n [6.5 3.  5.5 1.8]\n [5.6 3.  4.5 1.5]\n [5.5 2.6 4.4 1.2]\n [5.  3.6 1.4 0.2]\n [6.1 2.6 5.6 1.4]\n [4.9 3.  1.4 0.2]\n [5.1 3.3 1.7 0.5]\n [6.3 2.5 5.  1.9]\n [6.3 2.8 5.1 1.5]\n [6.3 3.3 4.7 1.6]\n [4.4 3.2 1.3 0.2]\n [5.6 2.5 3.9 1.1]\n [5.7 2.9 4.2 1.3]\n [7.  3.2 4.7 1.4]\n [6.9 3.1 4.9 1.5]\n [5.5 3.5 1.3 0.2]\n [5.5 2.4 3.7 1. ]\n [5.1 3.4 1.5 0.2]\n [6.8 3.2 5.9 2.3]\n [5.8 2.7 3.9 1.2]\n [7.9 3.8 6.4 2. ]\n [4.9 3.1 1.5 0.1]\n [6.  2.2 5.  1.5]\n [7.3 2.9 6.3 1.8]\n [6.  3.4 4.5 1.6]\n [6.3 3.4 5.6 2.4]\n [4.8 3.  1.4 0.1]\n [5.1 3.8 1.6 0.2]\n [5.5 2.4 3.8 1.1]\n [5.2 3.4 1.4 0.2]\n [6.8 2.8 4.8 1.4]\n [7.7 2.6 6.9 2.3]\n [6.4 2.7 5.3 1.9]\n [4.6 3.6 1.  0.2]\n [6.4 3.2 5.3 2.3]\n [6.  2.7 5.1 1.6]\n [6.4 2.8 5.6 2.1]\n [6.1 3.  4.9 1.8]\n [6.9 3.1 5.1 2.3]\n [7.2 3.6 6.1 2.5]\n [5.  3.5 1.6 0.6]\n [5.2 4.1 1.5 0.1]\n [5.  2.3 3.3 1. ]\n [7.7 3.8 6.7 2.2]\n [5.3 3.7 1.5 0.2]\n [6.7 3.1 4.7 1.5]\n [4.7 3.2 1.6 0.2]\n [6.9 3.2 5.7 2.3]\n [5.8 2.7 5.1 1.9]\n [5.7 2.8 4.5 1.3]\n [7.2 3.  5.8 1.6]\n [4.9 3.1 1.5 0.2]\n [5.7 2.8 4.1 1.3]\n [6.2 2.9 4.3 1.3]\n [7.2 3.2 6.  1.8]\n [5.2 2.7 3.9 1.4]\n [4.9 3.6 1.4 0.1]\n [5.8 2.7 4.1 1. ]\n [6.7 3.1 4.4 1.4]\n [4.5 2.3 1.3 0.3]\n [4.9 2.4 3.3 1. ]\n [4.8 3.4 1.6 0.2]\n [5.4 3.4 1.5 0.4]\n [5.2 3.5 1.5 0.2]\n [5.6 2.9 3.6 1.3]\n [5.7 3.  4.2 1.2]\n [6.5 3.2 5.1 2. ]\n [6.  2.2 4.  1. ]\n [5.8 2.7 5.1 1.9]\n [5.8 2.8 5.1 2.4]\n [7.7 3.  6.1 2.3]\n [5.7 2.5 5.  2. ]\n [5.7 3.8 1.7 0.3]\n [5.8 2.6 4.  1.2]\n [5.  2.  3.5 1. ]\n [6.7 3.3 5.7 2.5]\n [5.1 3.7 1.5 0.4]\n [5.  3.5 1.3 0.3]\n [5.1 3.5 1.4 0.2]\n [4.3 3.  1.1 0.1]\n [6.3 2.3 4.4 1.3]\n [6.1 2.8 4.  1.3]\n [7.6 3.  6.6 2.1]\n [6.7 3.  5.2 2.3]\n [6.2 2.8 4.8 1.8]] [2 1 2 1 0 1 0 0 0 2 0 0 2 0 1 2 2 1 2 0 0 1 2 2 1 0 0 2 1 1 0 2 0 0 2 2 1\n 0 1 1 1 1 0 1 0 2 1 2 0 2 2 1 2 0 0 1 0 1 2 2 0 2 1 2 2 2 2 0 0 1 2 0 1 0\n 2 2 1 2 0 1 1 2 1 0 1 1 0 1 0 0 0 1 1 2 1 2 2 2 2 0 1 1 2 0 0 0 0 1 1 2 2\n 2]\n"
    }
   ],
   "source": [
    "print('训练集特征值和目标值:',x_train,y_train)"
   ]
  },
  {
   "cell_type": "code",
   "execution_count": 11,
   "metadata": {
    "tags": []
   },
   "outputs": [
    {
     "output_type": "stream",
     "name": "stdout",
     "text": "测试集的特征值和目标值： [[4.6 3.4 1.4 0.3]\n [4.9 2.5 4.5 1.7]\n [5.6 3.  4.1 1.3]\n [6.4 3.1 5.5 1.8]\n [5.  3.4 1.6 0.4]\n [6.5 3.  5.8 2.2]\n [4.6 3.1 1.5 0.2]\n [5.9 3.  4.2 1.5]\n [5.5 4.2 1.4 0.2]\n [4.8 3.1 1.6 0.2]\n [5.4 3.4 1.7 0.2]\n [7.1 3.  5.9 2.1]\n [5.5 2.3 4.  1.3]\n [6.4 3.2 4.5 1.5]\n [5.1 2.5 3.  1.1]\n [5.1 3.5 1.4 0.3]\n [5.7 4.4 1.5 0.4]\n [6.3 2.7 4.9 1.8]\n [4.4 3.  1.3 0.2]\n [5.  3.2 1.2 0.2]\n [5.8 4.  1.2 0.2]\n [6.7 3.1 5.6 2.4]\n [6.5 2.8 4.6 1.5]\n [6.1 3.  4.6 1.4]\n [5.4 3.9 1.7 0.4]\n [5.6 2.7 4.2 1.3]\n [6.  2.9 4.5 1.5]\n [6.1 2.8 4.7 1.2]\n [5.9 3.2 4.8 1.8]\n [5.1 3.8 1.9 0.4]\n [5.5 2.5 4.  1.3]\n [6.5 3.  5.2 2. ]\n [5.9 3.  5.1 1.8]\n [6.9 3.1 5.4 2.1]\n [6.6 3.  4.4 1.4]\n [6.3 3.3 6.  2.5]\n [6.7 3.3 5.7 2.1]\n [6.4 2.9 4.3 1.3]] [0 2 1 2 0 2 0 1 0 0 0 2 1 1 1 0 0 2 0 0 0 2 1 1 0 1 1 1 1 0 1 2 2 2 1 2 2\n 1]\n"
    }
   ],
   "source": [
    "print('测试集的特征值和目标值：',x_test,y_test)"
   ]
  },
  {
   "cell_type": "markdown",
   "metadata": {},
   "source": [
    "## 用于分类的大数据集  \n",
    "sklearn.datasets.fetch_20newsgroups(data_home=None,subset=‘train’)\n",
    "* subset: 'train'或者'test','all'，可选，选择要加载的数据集.\n",
    "训练集的“训练”，测试集的“测试”，两者的“全部”  \n",
    "\n",
    "datasets.clear_data_home(data_home=None)  \n",
    "* 清除目录下的数据"
   ]
  },
  {
   "cell_type": "code",
   "execution_count": 12,
   "metadata": {},
   "outputs": [],
   "source": [
    "from sklearn.datasets import fetch_20newsgroups"
   ]
  },
  {
   "cell_type": "code",
   "execution_count": 16,
   "metadata": {
    "tags": []
   },
   "outputs": [],
   "source": [
    "news=fetch_20newsgroups(subset='all')"
   ]
  },
  {
   "cell_type": "code",
   "execution_count": 14,
   "metadata": {
    "tags": [
     "outputPrepend"
    ]
   },
   "outputs": [
    {
     "output_type": "stream",
     "name": "stdout",
     "text": "ellington is still on Broadway and Canal, but they\\'re\\nnot cheap, and not surplus.  It\\'s mostly a TV repairman\\'s store.\\n\\n-- Jeffrey Jonas\\njeffj@panix.com\\n-- \\nJeffrey Jonas\\n\\njeffj@panix.com\\n', 'From: jake@bony1.bony.com (Jake Livni)\\nSubject: Re: Israel\\'s Expansion II\\nOrganization: The Department of Redundancy Department\\nLines: 63\\n\\nIn article <1993Apr27.023914.9453@Virginia.EDU> ab4z@Virginia.EDU (\"Andi Beyer\") writes:\\n>jake@bony1.bony.com  writes:\\n>> In article <1993Apr25.222120.3411@Virginia.EDU> ab4z@Virginia.EDU (\"Andi Beyer\") writes:\\n>> >waldo@cybernet.cse.fau.edu  writes:\\n>> \\n>> >> ALL Jews suffered during WWII, not just our beloved who perished or were \\n>> >> tortured.  We ALL suffered.  \\n>> \\n>> >\\tAll humans suffered emotionally, some Jews and many\\n>> >others suffered physically. \\n>> \\n>> I\\'m just waiting for Andi to tell us that African Americans should\\n>> start paying compensation to White Americans who \"suffered\" from being \\n>> slave owners.\\n\\n>\\tDo you have a problem with the language? I said\\n>everyone suffered emotionally because they sympathyzed with the\\n>victims of Holocaust. \\n\\nThere were a great many Germans, Poles and others who did not\\nsympathize with the victims of the Holocaust but instead participated\\nwith enthusiasm in the killing.\\n\\nThe Holocaust wasn\\'t a massacre, it wasn\\'t even killing for sport; it\\nwas an entire Industry of Death.  German engineers, architects\\ntechnicians and bureaucrats proudly put their best efforts into as\\nefficient and methodical a Killing Machine as they could devise and\\noperate.  And it certainly was something extraordinary.\\n\\nPlease don\\'t bleat to us about how the Nazis suffered from the\\nHolocaust.\\n\\n>I wasn\\'t implying that anyone suffered\\n>more than the actual victims. \\n\\nBut what you DID do, when Waldo wrote:\\n  All Jews suffered during WWII [...]\\nwas \"correct\" him with:\\n  All humans suffered [...]\\n\\nSo what WERE you implying?\\n\\n>Neither was I implying any\\n>wrongdoing on the part of the Jews as the cause for the\\n>Holocaust. \\n\\nAre we supposed to thank you for your generosity?  \\nOr should we be pleased with your minimal common sense?\\n\\n>What is wrong with you guys? Regardless of what one \\n>says you keep hearing what you want to hear. \\n\\nWhy is it that when someone writes something simple like \"All Jews\\nsufffered during WWII\" that YOU feel the burning need to add\\ncommentary?  Regardless of what people write, you keep trying to twist\\nthings into what YOU want to hear.  People with similar tendencies in\\nmore extreme form are sometimes called Historical Revisionists.  Is\\nthis something that you aspire to?\\n\\n-- \\nJake Livni  jake@bony1.bony.com           Ten years from now, George Bush will\\nAmerican-Occupied New York                   have replaced Jimmy Carter as the\\nMy opinions only - employer has no opinions.    standard of a failed President.\\n', 'Organization: Queen\\'s University at Kingston\\nFrom: Andy <2893684@QUCDN.QueensU.CA>\\nSubject: Re: If Oilers go to Hamilton\\nLines: 11\\n\\nIn article <1993Apr26.023650.16749@spang.Camosun.BC.CA>,\\nua256@freenet.Victoria.BC.CA (Tom Moffat) says:\\n>\\n>If the Oilers move to Hamilton what division will they play in .\\n\\nAnd won\\'t they have to change their name to the \"Steelers\" or something.\\nThe only significant deposits of oil around Hamilton are those caused by\\nthe tire fire a  few years back.\\n\\nThen again if the NBA can have the Utah Jazz or the L.A. Lakers (think about\\nit, what lakes are in L.A.) then I guess the NHL can have the Hamilton Oilers.\\n', 'From: shaig@composer.think.com (Shai Guday)\\nSubject: Re: was:Go Hezbollah!\\nOrganization: Thinking Machines Corporation, Cambridge MA, USA\\nLines: 78\\n\\t<Apr15.175334.72079@yuma.ACNS.ColoState.EDU>\\nNNTP-Posting-Host: composer.think.com\\nIn-reply-to: bh437292@longs.LANCE.ColoState.Edu\\'s message of Thu, 15 Apr 1993 17:53:34 GMT\\n\\nIn article <Apr15.175334.72079@yuma.ACNS.ColoState.EDU> bh437292@longs.LANCE.ColoState.Edu (Basil Hamdan) writes:\\n   [snip]\\n   In the first place the death of three soldiers on a patrol in occupied\\n   Lebanese terrritory is NOT an act of terrorism or murder.  It is \\n   disingeneous to compare their death to that of athletes in Munich\\n   or any other act of terrorism or mrder.  This exercise is aimed \\n   solely at diverting the issue and is far from the truth.\\n\\nI agree that the death of three soldiers on a patrol etc... is\\nnot terrorism.  That having been said, lets continue.\\n\\n   [snip]\\n   imagine ????  It is NOT a \"terrorist camp\" as you and the Israelis like \\n   to view the villages they are small communities with kids playing soccer\\n   in the streets, women preparing lunch, men playing cards, etc.....\\n\\nI would not argue that all or even most of the villages are \"terrorist\\ncamps\".  There are however some which come very close to serving that\\npurpose and that is not to say that other did not function in that way\\nprior to the invasion. \\n\\n   SOME young men, usually aged between 17 to 30 years are members of\\n   the Lebanese resistance.  Even the inhabitants of the village do not \\n   know who these are, they are secretive about it, but most people often\\n   suspect who they are and what they are up to.  These young men are\\n   supported financially by Iran most of the time.  They sneak arms and\\n   ammunitions into the occupied zone where they set up booby traps\\n   for Israeli patrols.  Every time an Israeli soldier is killed or injured\\n   by these traps, Israel retalliates by indiscriminately bombing villages\\n   of their own choosing often killing only innocent civilians.  Once they\\n   are back they announce that they bombed a \"terrorist  hideout\" where\\n   an 8 year old girl just happened to be.\\n\\nSome of the villages, and yours might well be among them, are as you\\ndescribe.  Not all are.  There are a large number of groups in the area,\\nbacked by various organizations, with a wide range of purposes.  Hizbollah\\nand Amal were two of the larger ones and may still be.  As to retaliation,\\nwhile mistakes may be made, that is still a far cry from indiscriminate\\nbombing, which would have produced major casualties.\\n\\n   Israel\\'s retalliation policy is cold hearted, but a reality that\\n   we have come to accept and deal with, the Lebanese Resistance\\n   on the other hand is not going to stop its attacks on OCCUPYING \\n   ISRAELI SOLDIERS until they withdraw, this is the only real \\n   leverage that they have to force Israel to withdraw.\\n\\nWell, here we disagree.  I think that Israel would willingly withdraw if\\nthe Lebanese gov\\'t was able to field a reliable force in the area to police\\nit and prevent further attacks.\\n\\n   This is the only realistic solution, it is time for Israel to\\n   realize that the concept of a \"buffer zone\" aimed at protecting\\n   its northern cities has failed.  In fact it has caused much more\\n   Israeli deaths than the occasional shelling of Northern Israel\\n   would have resulted in.  \\n\\nActually that is not clear at all.  I will agree that the death toll is no\\nlonger civilian and now primarily military though.\\n\\n   There seems to be very little incentive for the Syrian and Lebanese\\n   goovernment to allow Hizbollah to bomb Israel proper under such \\n   circumstances, and now the Lebanese government has proven that it is\\n   capable of controlling and disarming all militias as they did\\n   in all other parts of Lebanon.\\n\\nNo, the Syrian gov\\'t is more than happy to have Israel sink into another\\nLebanese morass.  I could elaborate if necessary.\\n\\n   I agree, only in the case of the Isareli soldiers their killing\\n   CANNOT be qualified as murder, no matter what you say.\\n\\nNo, but it is regretable, as is the whole situation.\\n\\n--\\nShai Guday              | Stealth bombers,\\nOS Software Engineer    |\\nThinking Machines Corp. |\\tthe winged ninjas of the skies.\\nCambridge, MA           |\\n', 'From: noye@midway.uchicago.edu (vera shanti noyes)\\nSubject: Re: Homosexuality issues in Christianity\\nReply-To: noye@midway.uchicago.edu\\nOrganization: University of Chicago\\nLines: 56\\n\\nIn article <May.11.02.39.05.1993.28328@athos.rutgers.edu> carlson@ab24.larc.nasa.gov (Ann Carlson) writes:\\n\\n[bible verses ag./ used ag. homosexuality deleted]\\n\\n>Anyone who thinks being gay and Christianity are not compatible should \\n>check out Dignity, Integrity, More Light Presbyterian churches, Affirmation,\\n>MCC churches, etc.  Meet some gay Christians, find out who they are, pray\\n>with them, discuss scripture with them, and only *then* form your opinion.\\n\\nalso check out the episcopal church -- although by no means all\\nepiscopalians are sympathetic to homosexual men and women, there\\ncertainly is a fairly large percentage (in my experience) who are.  i\\nam good friends with an episcopalian minister who is ordained and\\nliving in a monogamous homosexual relationship.  this in no way\\ndiminishes his ability to minister -- in fact he has a very\\nsignificant ministry with the gay and lesbian association of his\\ncommunity, as well as a very significant aids ministry.\\n\\nmy uncle is gay and when i found this out i had a good long think\\nabout what the bible has to say about this and what i feel God thinks\\nabout this.  obviously my conclusions may be wrong; nonetheless they\\nare my own and they feel right to me.  i believe that the one\\nimportant thing that those who wrote the old and new testament\\npassages cited above did NOT know was that there is scientific\\nevidence to support that homosexuality is at least partly _inherent_\\nrather than completely learned.  this means that to a certain extent\\n-- or to a great extent -- homosexuals cannot choose how to feel about\\nother people -- which is why reports of \"curing\" homosexuals always\\nchill me and make me feel ill.  please not that, although i can\\'t cite\\nsources where you can find this information, there is homosexual\\nbehavior recorded among monkeys and other animals, which is in itself\\nsuggestive that it is inherent rather than learned, or at least that\\nthe word \"unnatural\" shouldn\\'t really apply....\\n\\nplease remember that whatever you believe, gays and lesbians shoul not\\nbe excluded from your love and acceptance.  christ loved us all, and\\nwe ALL sin.  and he himself never said anything against homosexuals --\\nrather it is paul (who also came out with such wonderful wisdom as\\n\"women shouldn\\'t speak in church\" and \"women should keep their heads\\ncovered in church\" -- not exact quotations as i don\\'t have my bible\\nhandy) who says these things.  i have a tendency to take some of the\\nthings paul says with a grain of salt....\\n\\nwell, that\\'s all i\\'ll say for now.\\n\\n>*************************************************      \\n>*Dr. Ann B. Carlson (a.b.carlson@larc.nasa.gov) *       O .\\n>*MS 366                                         *         o  _///_ //\\n>*NASA Langley Research Center                   *          <`)=  _<<\\n>*Hampton, VA 23681-0001                         *             \\\\\\\\\\\\  \\\\\\\\\\n>*************************************************\\n\\nvera noyes\\n-------\\nthe lord is risen indeed.  let\\'s party!\\nnoye@midway,uchicago.edu\\t\\t\\t\\t(vera noyes)\\n', \"From: chein@eng.auburn.edu (Tsan Heui)\\nSubject: IN CASE A DEAL IS A LEMON ....\\nNntp-Posting-Host: wilbur.eng.auburn.edu\\nOrganization: Auburn University Engineering\\nDistribution: usa\\nLines: 22\\n\\n\\nHi to all.\\n\\nSince all of you could also be a seller as well as a buyer, I'd like to bring\\nthis issue for discussion - what would be the best solution in case a deal \\nbecame a lemon?\\n\\nAs I understand most people selling things over the net do not grant a warranty,I am in such a situation that the seller did not state whether a warranty would be granted or not and the item I received is out of order. The seller insisted\\nthat it was 'in good condition' when he sent it and so would just return half ofthe amount that I paid if I send the item back to him and after he is sured it\\nis bad. Is this reasonable?\\n\\nBasically I would like to believe the seller tells the truth. Also, I am positively to say that I've not done anything wrong which might cause the failure of \\nthe thing. My assumption here is everyone is honest - so rule out the possibility that either one of the two parties or both are liars.\\n\\nI would like to hear your opinion - either in here or directly respond to my\\ne-mail address.\\n\\nI know there is such a risk that you could lose money. But, how can we make it\\nenjoyable to most people and not wasting the bandwidth?\\n\\nchein\\n\\n\", 'From: jim.zisfein@factory.com (Jim Zisfein) \\nSubject: Re: Migraines and scans\\nDistribution: world\\nOrganization: Invention Factory\\'s BBS - New York City, NY - 212-274-8298v.32bis\\nReply-To: jim.zisfein@factory.com (Jim Zisfein) \\nLines: 37\\n\\nDN> From: nyeda@cnsvax.uwec.edu (David Nye)\\nDN> A neurology\\nDN> consultation is cheaper than a scan.\\n\\nAnd also better, because a neurologist can make a differential\\ndiagnosis between migraine, tension-type headache, cluster, benign\\nintracranial hypertension, chronic paroxysmal hemicrania, and other\\nheadache syndromes that all appear normal on a scan.  A neurologist\\ncan also recommend a course of treatment that is appropriate to the\\ndiagnosis.\\n\\nDN> >>Also, since many people are convinced they have brain tumors or other\\nDN> >>serious pathology, it may be cheaper to just get a CT scan then have\\nDN> >>them come into the ER every few weeks.\\nDN> And easier than taking the time to reassure the patient, right?\\nDN> Personally, I don\\'t think this can ever be justified.\\n\\nSigh.  It may never be justifiable, but I sometimes do it.  Even\\nafter I try to show thoroughness with a detailed history, neurologic\\nexamination, and discussion with the patient about my diagnosis,\\nsalted with lots of reassurance, patients still ask \"why can\\'t you\\norder a scan, so we can be absolutely sure?\"  Aunt Millie often gets\\ninto the conversation, as in \"they ignored Aunt Millie\\'s headaches\\nfor years\", and then she died of a brain tumor, aneurysm, or\\nwhatever.  If you can get away without ever ordering imaging for a\\npatient with an obviously benign headache syndrome, I\\'d like to hear\\nwhat your magic is.\\n\\nEvery once in a while I am able to bypass imaging by getting an EEG.\\nMind you, I don\\'t think EEG is terribly sensitive for brain tumor,\\nbut the patient feels like \"something is being done\" (as if the\\nhours I spent talking with and examining the patient were\\n\"nothing\"), the EEG has no ionizing radiation, it\\'s *much* cheaper\\nthan CT or MRI, and the EEG brings in some money to my department.\\n---\\n . SLMR 2.1 . E-mail: jim.zisfein@factory.com (Jim Zisfein)\\n                                                                         \\n', \"From: rdell@cbnewsf.cb.att.com (richard.b.dell)\\nSubject: Re: A question about 120VAC outlet wiring.\\nOrganization: AT&T\\nDistribution: na\\nLines: 21\\n\\nIn article <1993Apr22.004728.6736@mtu.edu> cmwolf@mtu.edu (Engineer by Day - Asleep by Night) writes:\\n>Dave Martindale (dave@imax.imax.com) wrote:\\n>: They require two separate grounds.  One ground goes to the ground pin\\n>: of the outlet, and the other ground wire is connected to the outlet's\\n>: mounting tabs (and thus grounds the box and faceplate screw and metal\\n>: faceplate, if any).\\n>\\n>I thought the ground WAS connected to the metal frame on the socket.\\n>\\n>-- \\n>------------------------------------------------------------------------------\\n>Christopher Wolf             Electrical Engineer                cmwolf@mtu.edu\\n>------------------------------------------------------------------------------\\n>         Remember, even if you win the Rat Race - You're still a rat.\\n\\nNot in isolated ground recepticles (usually an unusual color, such as orange\\nor yellow) often used in low noise, low leakage applications, as mentioned\\nearlier in the thread.\\n\\nRichard Dell\\n\\n\", 'From: westes@netcom.com (Will Estes)\\nSubject: Mounting CPU Cooler in vertical case\\nOrganization: Mail Group\\nX-Newsreader: TIN [version 1.1 PL8]\\nLines: 13\\n\\nI just installed a DX2-66 CPU in a clone motherboard, and tried mounting a CPU \\ncooler on the chip.  After about 1/2 hour, the weight of the cooler was enough \\nto dislodge the CPU from its mount.  It ended up bending a few pins\\non the CPU, but luckily the power was not on yet.  I ended up\\npressing the CPU deeply into its socket and then putting the CPU\\ncooler back on.  So far so good.\\n\\nHave others had this problem?  How do you ensure that the weight of\\nthe CPU fan and heatsink do not eventually work the CPU out of its\\nsocket when mounting the motherboard in a vertical case?\\n\\n-- \\nWill Estes\\t\\tInternet: westes@netcom.com\\n', \"From: steve@hcrlgw (Steven Collins)\\nSubject: Re: Sphere from 4 points?\\nOrganization: Central Research Lab. Hitachi, Ltd.\\nLines: 27\\nNntp-Posting-Host: hcrlgw\\n\\nIn article <1qkgbuINNs9n@shelley.u.washington.edu> bolson@carson.u.washington.edu (Edward Bolson) writes:\\n>Boy, this will be embarassing if it is trivial or an FAQ:\\n>\\n>Given 4 points (non coplanar), how does one find the sphere, that is,\\n>center and radius, exactly fitting those points?  I know how to do it\\n>for a circle (from 3 points), but do not immediately see a \\n>straightforward way to do it in 3-D.  I have checked some\\n>geometry books, Graphics Gems, and Farin, but am still at a loss?\\n>Please have mercy on me and provide the solution?  \\n\\nWouldn't this require a hyper-sphere.  In 3-space, 4 points over specifies\\na sphere as far as I can see.  Unless that is you can prove that a point\\nexists in 3-space that is equi-distant from the 4 points, and this may not\\nnecessarily happen.\\n\\nCorrect me if I'm wrong (which I quite possibly am!)\\n\\nsteve\\n---\\n\\n\\n\\n-- \\n+---------------------------------------+--------------------------------+\\n| Steven Collins\\t\\t\\t| email: steve@crl.hitachi.co.jp |\\n| Visiting Computer Graphics Researcher\\t| phone: (0423)-23-1111 \\t |\\n| Hitachi Central Research Lab. Tokyo.\\t| fax:   (0423)-27-7742\\t\\t |\\n\", 'From: chriss@netcom.com (Chris Silvester)\\nSubject: \"Production Hold\" on \\'93 Firebird/Camaro w/ 6-Speed\\nOrganization: Netcom - Online Communication Services (408 241-9760 guest)\\nDistribution: usa\\nLines: 30\\n\\nAfter a tip from Gary Crum (crum@fcom.cc.utah.edu) I got on the Phone\\nwith \"Pontiac Systems\" or \"Pontaic Customer Service\" or whatever, and\\ninquired about a rumoured Production Hold on the Formula Firebird and\\nTrans Am.  BTW, Talking with the dealer I bought the car from got me\\nnowhere.  After being routed to a \"Firebird Specialist\", I was able\\nto confirm that this is in fact the case.\\n\\nAt first, there was some problem with the 3:23 performance axle ratio.\\nShe wouldn\\'t go into any details, so I don\\'t know if there were some\\nshipped that had problems, or if production was held up because they\\nsimply didn\\'t have the proper parts from the supplier.  As I say, she\\nwas pretty vague on that, so if anyone else knows anything about this,\\nfeel free to respond.  Supposedly, this problem is now solved.\\n\\nSecond, there is a definate shortage of parts that is somehow related\\nto the six-speed Manual transmission.  So as of this posting, there is\\na production hold on these cars.  She claimed part of the delay was\\nnot wanting to use inferior quality parts for the car, and therefore\\nhaving to wait for the right high quality parts...  I\\'m not positive\\nthat this applies to the Camaro as well, but I\\'m guessing it would.\\n\\nCan anyone else shed some light on this?\\n\\nChris S.\\n-- \\n--------------------------------------------------------------------------------\\nChris Silvester      | \"Any man capable of getting himself elected President\\nchriss@sam.amgen.com |  should by no means be allowed to do the job\"\\nchriss@netcom.com    |   - Douglas Adams, The Hitchhiker\\'s Guide to the Galaxy\\n--------------------------------------------------------------------------------\\n']\n"
    }
   ],
   "source": [
    "print(news.data)"
   ]
  },
  {
   "cell_type": "code",
   "execution_count": 15,
   "metadata": {
    "tags": []
   },
   "outputs": [
    {
     "output_type": "stream",
     "name": "stdout",
     "text": "[10  3 17 ...  3  1  7]\n"
    }
   ],
   "source": [
    "print(news.target)"
   ]
  },
  {
   "cell_type": "markdown",
   "metadata": {},
   "source": [
    "## sklean回归数据集"
   ]
  },
  {
   "cell_type": "code",
   "execution_count": 18,
   "metadata": {},
   "outputs": [],
   "source": [
    "from sklearn.datasets import load_boston"
   ]
  },
  {
   "cell_type": "code",
   "execution_count": 19,
   "metadata": {},
   "outputs": [],
   "source": [
    "lb=load_boston()"
   ]
  },
  {
   "cell_type": "code",
   "execution_count": 20,
   "metadata": {
    "tags": []
   },
   "outputs": [
    {
     "output_type": "stream",
     "name": "stdout",
     "text": "[[6.3200e-03 1.8000e+01 2.3100e+00 ... 1.5300e+01 3.9690e+02 4.9800e+00]\n [2.7310e-02 0.0000e+00 7.0700e+00 ... 1.7800e+01 3.9690e+02 9.1400e+00]\n [2.7290e-02 0.0000e+00 7.0700e+00 ... 1.7800e+01 3.9283e+02 4.0300e+00]\n ...\n [6.0760e-02 0.0000e+00 1.1930e+01 ... 2.1000e+01 3.9690e+02 5.6400e+00]\n [1.0959e-01 0.0000e+00 1.1930e+01 ... 2.1000e+01 3.9345e+02 6.4800e+00]\n [4.7410e-02 0.0000e+00 1.1930e+01 ... 2.1000e+01 3.9690e+02 7.8800e+00]]\n"
    }
   ],
   "source": [
    "# 获取特征值\n",
    "print(lb.data)"
   ]
  },
  {
   "cell_type": "code",
   "execution_count": 21,
   "metadata": {
    "tags": []
   },
   "outputs": [
    {
     "output_type": "stream",
     "name": "stdout",
     "text": "[24.  21.6 34.7 33.4 36.2 28.7 22.9 27.1 16.5 18.9 15.  18.9 21.7 20.4\n 18.2 19.9 23.1 17.5 20.2 18.2 13.6 19.6 15.2 14.5 15.6 13.9 16.6 14.8\n 18.4 21.  12.7 14.5 13.2 13.1 13.5 18.9 20.  21.  24.7 30.8 34.9 26.6\n 25.3 24.7 21.2 19.3 20.  16.6 14.4 19.4 19.7 20.5 25.  23.4 18.9 35.4\n 24.7 31.6 23.3 19.6 18.7 16.  22.2 25.  33.  23.5 19.4 22.  17.4 20.9\n 24.2 21.7 22.8 23.4 24.1 21.4 20.  20.8 21.2 20.3 28.  23.9 24.8 22.9\n 23.9 26.6 22.5 22.2 23.6 28.7 22.6 22.  22.9 25.  20.6 28.4 21.4 38.7\n 43.8 33.2 27.5 26.5 18.6 19.3 20.1 19.5 19.5 20.4 19.8 19.4 21.7 22.8\n 18.8 18.7 18.5 18.3 21.2 19.2 20.4 19.3 22.  20.3 20.5 17.3 18.8 21.4\n 15.7 16.2 18.  14.3 19.2 19.6 23.  18.4 15.6 18.1 17.4 17.1 13.3 17.8\n 14.  14.4 13.4 15.6 11.8 13.8 15.6 14.6 17.8 15.4 21.5 19.6 15.3 19.4\n 17.  15.6 13.1 41.3 24.3 23.3 27.  50.  50.  50.  22.7 25.  50.  23.8\n 23.8 22.3 17.4 19.1 23.1 23.6 22.6 29.4 23.2 24.6 29.9 37.2 39.8 36.2\n 37.9 32.5 26.4 29.6 50.  32.  29.8 34.9 37.  30.5 36.4 31.1 29.1 50.\n 33.3 30.3 34.6 34.9 32.9 24.1 42.3 48.5 50.  22.6 24.4 22.5 24.4 20.\n 21.7 19.3 22.4 28.1 23.7 25.  23.3 28.7 21.5 23.  26.7 21.7 27.5 30.1\n 44.8 50.  37.6 31.6 46.7 31.5 24.3 31.7 41.7 48.3 29.  24.  25.1 31.5\n 23.7 23.3 22.  20.1 22.2 23.7 17.6 18.5 24.3 20.5 24.5 26.2 24.4 24.8\n 29.6 42.8 21.9 20.9 44.  50.  36.  30.1 33.8 43.1 48.8 31.  36.5 22.8\n 30.7 50.  43.5 20.7 21.1 25.2 24.4 35.2 32.4 32.  33.2 33.1 29.1 35.1\n 45.4 35.4 46.  50.  32.2 22.  20.1 23.2 22.3 24.8 28.5 37.3 27.9 23.9\n 21.7 28.6 27.1 20.3 22.5 29.  24.8 22.  26.4 33.1 36.1 28.4 33.4 28.2\n 22.8 20.3 16.1 22.1 19.4 21.6 23.8 16.2 17.8 19.8 23.1 21.  23.8 23.1\n 20.4 18.5 25.  24.6 23.  22.2 19.3 22.6 19.8 17.1 19.4 22.2 20.7 21.1\n 19.5 18.5 20.6 19.  18.7 32.7 16.5 23.9 31.2 17.5 17.2 23.1 24.5 26.6\n 22.9 24.1 18.6 30.1 18.2 20.6 17.8 21.7 22.7 22.6 25.  19.9 20.8 16.8\n 21.9 27.5 21.9 23.1 50.  50.  50.  50.  50.  13.8 13.8 15.  13.9 13.3\n 13.1 10.2 10.4 10.9 11.3 12.3  8.8  7.2 10.5  7.4 10.2 11.5 15.1 23.2\n  9.7 13.8 12.7 13.1 12.5  8.5  5.   6.3  5.6  7.2 12.1  8.3  8.5  5.\n 11.9 27.9 17.2 27.5 15.  17.2 17.9 16.3  7.   7.2  7.5 10.4  8.8  8.4\n 16.7 14.2 20.8 13.4 11.7  8.3 10.2 10.9 11.   9.5 14.5 14.1 16.1 14.3\n 11.7 13.4  9.6  8.7  8.4 12.8 10.5 17.1 18.4 15.4 10.8 11.8 14.9 12.6\n 14.1 13.  13.4 15.2 16.1 17.8 14.9 14.1 12.7 13.5 14.9 20.  16.4 17.7\n 19.5 20.2 21.4 19.9 19.  19.1 19.1 20.1 19.9 19.6 23.2 29.8 13.8 13.3\n 16.7 12.  14.6 21.4 23.  23.7 25.  21.8 20.6 21.2 19.1 20.6 15.2  7.\n  8.1 13.6 20.1 21.8 24.5 23.1 19.7 18.3 21.2 17.5 16.8 22.4 20.6 23.9\n 22.  11.9]\n"
    }
   ],
   "source": [
    "# 目标值\n",
    "print(lb.target)"
   ]
  },
  {
   "cell_type": "code",
   "execution_count": 22,
   "metadata": {
    "tags": []
   },
   "outputs": [
    {
     "output_type": "stream",
     "name": "stdout",
     "text": ".. _boston_dataset:\n\nBoston house prices dataset\n---------------------------\n\n**Data Set Characteristics:**  \n\n    :Number of Instances: 506 \n\n    :Number of Attributes: 13 numeric/categorical predictive. Median Value (attribute 14) is usually the target.\n\n    :Attribute Information (in order):\n        - CRIM     per capita crime rate by town\n        - ZN       proportion of residential land zoned for lots over 25,000 sq.ft.\n        - INDUS    proportion of non-retail business acres per town\n        - CHAS     Charles River dummy variable (= 1 if tract bounds river; 0 otherwise)\n        - NOX      nitric oxides concentration (parts per 10 million)\n        - RM       average number of rooms per dwelling\n        - AGE      proportion of owner-occupied units built prior to 1940\n        - DIS      weighted distances to five Boston employment centres\n        - RAD      index of accessibility to radial highways\n        - TAX      full-value property-tax rate per $10,000\n        - PTRATIO  pupil-teacher ratio by town\n        - B        1000(Bk - 0.63)^2 where Bk is the proportion of blacks by town\n        - LSTAT    % lower status of the population\n        - MEDV     Median value of owner-occupied homes in $1000's\n\n    :Missing Attribute Values: None\n\n    :Creator: Harrison, D. and Rubinfeld, D.L.\n\nThis is a copy of UCI ML housing dataset.\nhttps://archive.ics.uci.edu/ml/machine-learning-databases/housing/\n\n\nThis dataset was taken from the StatLib library which is maintained at Carnegie Mellon University.\n\nThe Boston house-price data of Harrison, D. and Rubinfeld, D.L. 'Hedonic\nprices and the demand for clean air', J. Environ. Economics & Management,\nvol.5, 81-102, 1978.   Used in Belsley, Kuh & Welsch, 'Regression diagnostics\n...', Wiley, 1980.   N.B. Various transformations are used in the table on\npages 244-261 of the latter.\n\nThe Boston house-price data has been used in many machine learning papers that address regression\nproblems.   \n     \n.. topic:: References\n\n   - Belsley, Kuh & Welsch, 'Regression diagnostics: Identifying Influential Data and Sources of Collinearity', Wiley, 1980. 244-261.\n   - Quinlan,R. (1993). Combining Instance-Based and Model-Based Learning. In Proceedings on the Tenth International Conference of Machine Learning, 236-243, University of Massachusetts, Amherst. Morgan Kaufmann.\n\n"
    }
   ],
   "source": [
    "print(lb.DESCR)"
   ]
  },
  {
   "cell_type": "markdown",
   "metadata": {},
   "source": [
    "## 转换器  \n",
    "fit_transform():输入数据直接转换  \n",
    "fit():输入数据，不转换（计算平均值，方差）  \n",
    "transform():进行数据的转换"
   ]
  },
  {
   "cell_type": "markdown",
   "metadata": {},
   "source": [
    "## 估计器（estimator）\n",
    "1、用于分类的估计器：  \n",
    "* sklearn.neighbors\tk-近邻算法  \n",
    "* sklearn.naive_bayes      贝叶斯  \n",
    "* sklearn.linear_model.LogisticRegression     逻辑回归  \n",
    "\n",
    "2、用于回归的估计器：  \n",
    "* sklearn.linear_model.LinearRegression     线性回归  \n",
    "* sklearn.linear_model.Ridge      岭回归 \n",
    "\n"
   ]
  },
  {
   "cell_type": "code",
   "execution_count": null,
   "metadata": {},
   "outputs": [],
   "source": []
  }
 ]
}