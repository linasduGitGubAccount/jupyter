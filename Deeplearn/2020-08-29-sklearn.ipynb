{
 "metadata": {
  "language_info": {
   "codemirror_mode": {
    "name": "ipython",
    "version": 3
   },
   "file_extension": ".py",
   "mimetype": "text/x-python",
   "name": "python",
   "nbconvert_exporter": "python",
   "pygments_lexer": "ipython3",
   "version": "3.8.3-final"
  },
  "orig_nbformat": 2,
  "kernelspec": {
   "name": "python_defaultSpec_1598802379177",
   "display_name": "Python 3.8.3 64-bit ('base': conda)"
  }
 },
 "nbformat": 4,
 "nbformat_minor": 2,
 "cells": [
  {
   "cell_type": "markdown",
   "metadata": {},
   "source": [
    "# Sklean学习之K-近邻算法"
   ]
  },
  {
   "cell_type": "code",
   "execution_count": 1,
   "metadata": {},
   "outputs": [],
   "source": [
    "import pandas as pd\n",
    "from sklearn.model_selection import train_test_split,GridSearchCV\n",
    "from sklearn.neighbors import KNeighborsClassifier\n",
    "from sklearn.preprocessing import StandardScaler"
   ]
  },
  {
   "cell_type": "code",
   "execution_count": 2,
   "metadata": {},
   "outputs": [],
   "source": [
    "# 读取数据\n",
    "data=pd.read_csv(r'C:\\Users\\17575\\VSCode\\机器学习\\Data\\day_2\\train.csv')"
   ]
  },
  {
   "cell_type": "code",
   "execution_count": 3,
   "metadata": {
    "tags": []
   },
   "outputs": [
    {
     "output_type": "execute_result",
     "data": {
      "text/plain": "   row_id       x       y  accuracy    time    place_id\n0       0  0.7941  9.0809        54  470702  8523065625\n1       1  5.9567  4.7968        13  186555  1757726713\n2       2  8.3078  7.0407        74  322648  1137537235\n3       3  7.3665  2.5165        65  704587  6567393236\n4       4  4.0961  1.1307        31  472130  7440663949\n5       5  3.8099  1.9586        75  178065  6289802927\n6       6  6.3336  4.3720        13  666829  9931249544\n7       7  5.7409  6.7697        85  369002  5662813655\n8       8  4.3114  6.9410         3  166384  8471780938\n9       9  6.3414  0.0758        65  400060  1253803156",
      "text/html": "<div>\n<style scoped>\n    .dataframe tbody tr th:only-of-type {\n        vertical-align: middle;\n    }\n\n    .dataframe tbody tr th {\n        vertical-align: top;\n    }\n\n    .dataframe thead th {\n        text-align: right;\n    }\n</style>\n<table border=\"1\" class=\"dataframe\">\n  <thead>\n    <tr style=\"text-align: right;\">\n      <th></th>\n      <th>row_id</th>\n      <th>x</th>\n      <th>y</th>\n      <th>accuracy</th>\n      <th>time</th>\n      <th>place_id</th>\n    </tr>\n  </thead>\n  <tbody>\n    <tr>\n      <th>0</th>\n      <td>0</td>\n      <td>0.7941</td>\n      <td>9.0809</td>\n      <td>54</td>\n      <td>470702</td>\n      <td>8523065625</td>\n    </tr>\n    <tr>\n      <th>1</th>\n      <td>1</td>\n      <td>5.9567</td>\n      <td>4.7968</td>\n      <td>13</td>\n      <td>186555</td>\n      <td>1757726713</td>\n    </tr>\n    <tr>\n      <th>2</th>\n      <td>2</td>\n      <td>8.3078</td>\n      <td>7.0407</td>\n      <td>74</td>\n      <td>322648</td>\n      <td>1137537235</td>\n    </tr>\n    <tr>\n      <th>3</th>\n      <td>3</td>\n      <td>7.3665</td>\n      <td>2.5165</td>\n      <td>65</td>\n      <td>704587</td>\n      <td>6567393236</td>\n    </tr>\n    <tr>\n      <th>4</th>\n      <td>4</td>\n      <td>4.0961</td>\n      <td>1.1307</td>\n      <td>31</td>\n      <td>472130</td>\n      <td>7440663949</td>\n    </tr>\n    <tr>\n      <th>5</th>\n      <td>5</td>\n      <td>3.8099</td>\n      <td>1.9586</td>\n      <td>75</td>\n      <td>178065</td>\n      <td>6289802927</td>\n    </tr>\n    <tr>\n      <th>6</th>\n      <td>6</td>\n      <td>6.3336</td>\n      <td>4.3720</td>\n      <td>13</td>\n      <td>666829</td>\n      <td>9931249544</td>\n    </tr>\n    <tr>\n      <th>7</th>\n      <td>7</td>\n      <td>5.7409</td>\n      <td>6.7697</td>\n      <td>85</td>\n      <td>369002</td>\n      <td>5662813655</td>\n    </tr>\n    <tr>\n      <th>8</th>\n      <td>8</td>\n      <td>4.3114</td>\n      <td>6.9410</td>\n      <td>3</td>\n      <td>166384</td>\n      <td>8471780938</td>\n    </tr>\n    <tr>\n      <th>9</th>\n      <td>9</td>\n      <td>6.3414</td>\n      <td>0.0758</td>\n      <td>65</td>\n      <td>400060</td>\n      <td>1253803156</td>\n    </tr>\n  </tbody>\n</table>\n</div>"
     },
     "metadata": {},
     "execution_count": 3
    }
   ],
   "source": [
    "# 打印前10行\n",
    "data.head(10)"
   ]
  },
  {
   "cell_type": "code",
   "execution_count": 4,
   "metadata": {},
   "outputs": [],
   "source": [
    "# 处理数据\n",
    "# 1、缩小数据,查询数据筛选\n",
    "data=data.query('x>1.0 & x<1.25 & y>2.5 & y<2.75')"
   ]
  },
  {
   "cell_type": "code",
   "execution_count": 5,
   "metadata": {
    "tags": []
   },
   "outputs": [
    {
     "output_type": "execute_result",
     "data": {
      "text/plain": "600        1970-01-01 18:09:40\n957        1970-01-10 02:11:10\n4345       1970-01-05 15:08:02\n4735       1970-01-06 23:03:03\n5580       1970-01-09 11:26:50\n                   ...        \n29100203   1970-01-01 10:33:56\n29108443   1970-01-07 23:22:04\n29109993   1970-01-08 15:03:14\n29111539   1970-01-04 00:53:41\n29112154   1970-01-08 23:01:07\nName: time, Length: 17710, dtype: datetime64[ns]"
     },
     "metadata": {},
     "execution_count": 5
    }
   ],
   "source": [
    "# 处理时间序列\n",
    "time_value=pd.to_datetime(data['time'],unit='s')\n",
    "time_value"
   ]
  },
  {
   "cell_type": "code",
   "execution_count": 6,
   "metadata": {
    "tags": []
   },
   "outputs": [
    {
     "output_type": "execute_result",
     "data": {
      "text/plain": "DatetimeIndex(['1970-01-01 18:09:40', '1970-01-10 02:11:10',\n               '1970-01-05 15:08:02', '1970-01-06 23:03:03',\n               '1970-01-09 11:26:50', '1970-01-02 16:25:07',\n               '1970-01-04 15:52:57', '1970-01-01 10:13:36',\n               '1970-01-09 15:26:06', '1970-01-08 23:52:02',\n               ...\n               '1970-01-07 10:03:36', '1970-01-09 11:44:34',\n               '1970-01-04 08:07:44', '1970-01-04 15:47:47',\n               '1970-01-08 01:24:11', '1970-01-01 10:33:56',\n               '1970-01-07 23:22:04', '1970-01-08 15:03:14',\n               '1970-01-04 00:53:41', '1970-01-08 23:01:07'],\n              dtype='datetime64[ns]', name='time', length=17710, freq=None)"
     },
     "metadata": {},
     "execution_count": 6
    }
   ],
   "source": [
    "# 日期格式转化为字典格式\n",
    "time_value=pd.DatetimeIndex(time_value)\n",
    "time_value"
   ]
  },
  {
   "cell_type": "code",
   "execution_count": 7,
   "metadata": {},
   "outputs": [],
   "source": [
    "# 构造一些特征\n",
    "data['day']=time_value.day\n",
    "data['hour']=time_value.hour\n",
    "data['weekday']=time_value.weekday"
   ]
  },
  {
   "cell_type": "code",
   "execution_count": 8,
   "metadata": {
    "tags": []
   },
   "outputs": [
    {
     "output_type": "execute_result",
     "data": {
      "text/plain": "            row_id       x       y  accuracy    place_id  day  hour  weekday\n600            600  1.2214  2.7023        17  6683426742    1    18        3\n957            957  1.1832  2.6891        58  6683426742   10     2        5\n4345          4345  1.1935  2.6550        11  6889790653    5    15        0\n4735          4735  1.1452  2.6074        49  6822359752    6    23        1\n5580          5580  1.0089  2.7287        19  1527921905    9    11        4\n...            ...     ...     ...       ...         ...  ...   ...      ...\n29100203  29100203  1.0129  2.6775        12  3312463746    1    10        3\n29108443  29108443  1.1474  2.6840        36  3533177779    7    23        2\n29109993  29109993  1.0240  2.7238        62  6424972551    8    15        3\n29111539  29111539  1.2032  2.6796        87  3533177779    4     0        6\n29112154  29112154  1.1070  2.5419       178  4932578245    8    23        3\n\n[17710 rows x 8 columns]",
      "text/html": "<div>\n<style scoped>\n    .dataframe tbody tr th:only-of-type {\n        vertical-align: middle;\n    }\n\n    .dataframe tbody tr th {\n        vertical-align: top;\n    }\n\n    .dataframe thead th {\n        text-align: right;\n    }\n</style>\n<table border=\"1\" class=\"dataframe\">\n  <thead>\n    <tr style=\"text-align: right;\">\n      <th></th>\n      <th>row_id</th>\n      <th>x</th>\n      <th>y</th>\n      <th>accuracy</th>\n      <th>place_id</th>\n      <th>day</th>\n      <th>hour</th>\n      <th>weekday</th>\n    </tr>\n  </thead>\n  <tbody>\n    <tr>\n      <th>600</th>\n      <td>600</td>\n      <td>1.2214</td>\n      <td>2.7023</td>\n      <td>17</td>\n      <td>6683426742</td>\n      <td>1</td>\n      <td>18</td>\n      <td>3</td>\n    </tr>\n    <tr>\n      <th>957</th>\n      <td>957</td>\n      <td>1.1832</td>\n      <td>2.6891</td>\n      <td>58</td>\n      <td>6683426742</td>\n      <td>10</td>\n      <td>2</td>\n      <td>5</td>\n    </tr>\n    <tr>\n      <th>4345</th>\n      <td>4345</td>\n      <td>1.1935</td>\n      <td>2.6550</td>\n      <td>11</td>\n      <td>6889790653</td>\n      <td>5</td>\n      <td>15</td>\n      <td>0</td>\n    </tr>\n    <tr>\n      <th>4735</th>\n      <td>4735</td>\n      <td>1.1452</td>\n      <td>2.6074</td>\n      <td>49</td>\n      <td>6822359752</td>\n      <td>6</td>\n      <td>23</td>\n      <td>1</td>\n    </tr>\n    <tr>\n      <th>5580</th>\n      <td>5580</td>\n      <td>1.0089</td>\n      <td>2.7287</td>\n      <td>19</td>\n      <td>1527921905</td>\n      <td>9</td>\n      <td>11</td>\n      <td>4</td>\n    </tr>\n    <tr>\n      <th>...</th>\n      <td>...</td>\n      <td>...</td>\n      <td>...</td>\n      <td>...</td>\n      <td>...</td>\n      <td>...</td>\n      <td>...</td>\n      <td>...</td>\n    </tr>\n    <tr>\n      <th>29100203</th>\n      <td>29100203</td>\n      <td>1.0129</td>\n      <td>2.6775</td>\n      <td>12</td>\n      <td>3312463746</td>\n      <td>1</td>\n      <td>10</td>\n      <td>3</td>\n    </tr>\n    <tr>\n      <th>29108443</th>\n      <td>29108443</td>\n      <td>1.1474</td>\n      <td>2.6840</td>\n      <td>36</td>\n      <td>3533177779</td>\n      <td>7</td>\n      <td>23</td>\n      <td>2</td>\n    </tr>\n    <tr>\n      <th>29109993</th>\n      <td>29109993</td>\n      <td>1.0240</td>\n      <td>2.7238</td>\n      <td>62</td>\n      <td>6424972551</td>\n      <td>8</td>\n      <td>15</td>\n      <td>3</td>\n    </tr>\n    <tr>\n      <th>29111539</th>\n      <td>29111539</td>\n      <td>1.2032</td>\n      <td>2.6796</td>\n      <td>87</td>\n      <td>3533177779</td>\n      <td>4</td>\n      <td>0</td>\n      <td>6</td>\n    </tr>\n    <tr>\n      <th>29112154</th>\n      <td>29112154</td>\n      <td>1.1070</td>\n      <td>2.5419</td>\n      <td>178</td>\n      <td>4932578245</td>\n      <td>8</td>\n      <td>23</td>\n      <td>3</td>\n    </tr>\n  </tbody>\n</table>\n<p>17710 rows × 8 columns</p>\n</div>"
     },
     "metadata": {},
     "execution_count": 8
    }
   ],
   "source": [
    "# 删除特征时间戳\n",
    "data=data.drop(['time'],axis=1)\n",
    "data"
   ]
  },
  {
   "cell_type": "code",
   "execution_count": 9,
   "metadata": {
    "tags": []
   },
   "outputs": [
    {
     "output_type": "execute_result",
     "data": {
      "text/plain": "            row_id     x     y  accuracy   day  hour  weekday\nplace_id                                                     \n1012023972       1     1     1         1     1     1        1\n1057182134       1     1     1         1     1     1        1\n1059958036       3     3     3         3     3     3        3\n1085266789       1     1     1         1     1     1        1\n1097200869    1044  1044  1044      1044  1044  1044     1044\n...            ...   ...   ...       ...   ...   ...      ...\n9904182060       1     1     1         1     1     1        1\n9915093501       1     1     1         1     1     1        1\n9946198589       1     1     1         1     1     1        1\n9950190890       1     1     1         1     1     1        1\n9980711012       5     5     5         5     5     5        5\n\n[805 rows x 7 columns]",
      "text/html": "<div>\n<style scoped>\n    .dataframe tbody tr th:only-of-type {\n        vertical-align: middle;\n    }\n\n    .dataframe tbody tr th {\n        vertical-align: top;\n    }\n\n    .dataframe thead th {\n        text-align: right;\n    }\n</style>\n<table border=\"1\" class=\"dataframe\">\n  <thead>\n    <tr style=\"text-align: right;\">\n      <th></th>\n      <th>row_id</th>\n      <th>x</th>\n      <th>y</th>\n      <th>accuracy</th>\n      <th>day</th>\n      <th>hour</th>\n      <th>weekday</th>\n    </tr>\n    <tr>\n      <th>place_id</th>\n      <th></th>\n      <th></th>\n      <th></th>\n      <th></th>\n      <th></th>\n      <th></th>\n      <th></th>\n    </tr>\n  </thead>\n  <tbody>\n    <tr>\n      <th>1012023972</th>\n      <td>1</td>\n      <td>1</td>\n      <td>1</td>\n      <td>1</td>\n      <td>1</td>\n      <td>1</td>\n      <td>1</td>\n    </tr>\n    <tr>\n      <th>1057182134</th>\n      <td>1</td>\n      <td>1</td>\n      <td>1</td>\n      <td>1</td>\n      <td>1</td>\n      <td>1</td>\n      <td>1</td>\n    </tr>\n    <tr>\n      <th>1059958036</th>\n      <td>3</td>\n      <td>3</td>\n      <td>3</td>\n      <td>3</td>\n      <td>3</td>\n      <td>3</td>\n      <td>3</td>\n    </tr>\n    <tr>\n      <th>1085266789</th>\n      <td>1</td>\n      <td>1</td>\n      <td>1</td>\n      <td>1</td>\n      <td>1</td>\n      <td>1</td>\n      <td>1</td>\n    </tr>\n    <tr>\n      <th>1097200869</th>\n      <td>1044</td>\n      <td>1044</td>\n      <td>1044</td>\n      <td>1044</td>\n      <td>1044</td>\n      <td>1044</td>\n      <td>1044</td>\n    </tr>\n    <tr>\n      <th>...</th>\n      <td>...</td>\n      <td>...</td>\n      <td>...</td>\n      <td>...</td>\n      <td>...</td>\n      <td>...</td>\n      <td>...</td>\n    </tr>\n    <tr>\n      <th>9904182060</th>\n      <td>1</td>\n      <td>1</td>\n      <td>1</td>\n      <td>1</td>\n      <td>1</td>\n      <td>1</td>\n      <td>1</td>\n    </tr>\n    <tr>\n      <th>9915093501</th>\n      <td>1</td>\n      <td>1</td>\n      <td>1</td>\n      <td>1</td>\n      <td>1</td>\n      <td>1</td>\n      <td>1</td>\n    </tr>\n    <tr>\n      <th>9946198589</th>\n      <td>1</td>\n      <td>1</td>\n      <td>1</td>\n      <td>1</td>\n      <td>1</td>\n      <td>1</td>\n      <td>1</td>\n    </tr>\n    <tr>\n      <th>9950190890</th>\n      <td>1</td>\n      <td>1</td>\n      <td>1</td>\n      <td>1</td>\n      <td>1</td>\n      <td>1</td>\n      <td>1</td>\n    </tr>\n    <tr>\n      <th>9980711012</th>\n      <td>5</td>\n      <td>5</td>\n      <td>5</td>\n      <td>5</td>\n      <td>5</td>\n      <td>5</td>\n      <td>5</td>\n    </tr>\n  </tbody>\n</table>\n<p>805 rows × 7 columns</p>\n</div>"
     },
     "metadata": {},
     "execution_count": 9
    }
   ],
   "source": [
    "# 签到数量少于n个的删除\n",
    "place_count=data.groupby('place_id').count()\n",
    "place_count"
   ]
  },
  {
   "cell_type": "code",
   "execution_count": 10,
   "metadata": {
    "tags": []
   },
   "outputs": [
    {
     "output_type": "execute_result",
     "data": {
      "text/plain": "       place_id  row_id     x     y  accuracy   day  hour  weekday\n0    1097200869    1044  1044  1044      1044  1044  1044     1044\n1    1228935308     120   120   120       120   120   120      120\n2    1267801529      58    58    58        58    58    58       58\n3    1278040507      15    15    15        15    15    15       15\n4    1285051622      21    21    21        21    21    21       21\n..          ...     ...   ...   ...       ...   ...   ...      ...\n234  9741307878       5     5     5         5     5     5        5\n235  9753855529      21    21    21        21    21    21       21\n236  9806043737       6     6     6         6     6     6        6\n237  9809476069      23    23    23        23    23    23       23\n238  9980711012       5     5     5         5     5     5        5\n\n[239 rows x 8 columns]",
      "text/html": "<div>\n<style scoped>\n    .dataframe tbody tr th:only-of-type {\n        vertical-align: middle;\n    }\n\n    .dataframe tbody tr th {\n        vertical-align: top;\n    }\n\n    .dataframe thead th {\n        text-align: right;\n    }\n</style>\n<table border=\"1\" class=\"dataframe\">\n  <thead>\n    <tr style=\"text-align: right;\">\n      <th></th>\n      <th>place_id</th>\n      <th>row_id</th>\n      <th>x</th>\n      <th>y</th>\n      <th>accuracy</th>\n      <th>day</th>\n      <th>hour</th>\n      <th>weekday</th>\n    </tr>\n  </thead>\n  <tbody>\n    <tr>\n      <th>0</th>\n      <td>1097200869</td>\n      <td>1044</td>\n      <td>1044</td>\n      <td>1044</td>\n      <td>1044</td>\n      <td>1044</td>\n      <td>1044</td>\n      <td>1044</td>\n    </tr>\n    <tr>\n      <th>1</th>\n      <td>1228935308</td>\n      <td>120</td>\n      <td>120</td>\n      <td>120</td>\n      <td>120</td>\n      <td>120</td>\n      <td>120</td>\n      <td>120</td>\n    </tr>\n    <tr>\n      <th>2</th>\n      <td>1267801529</td>\n      <td>58</td>\n      <td>58</td>\n      <td>58</td>\n      <td>58</td>\n      <td>58</td>\n      <td>58</td>\n      <td>58</td>\n    </tr>\n    <tr>\n      <th>3</th>\n      <td>1278040507</td>\n      <td>15</td>\n      <td>15</td>\n      <td>15</td>\n      <td>15</td>\n      <td>15</td>\n      <td>15</td>\n      <td>15</td>\n    </tr>\n    <tr>\n      <th>4</th>\n      <td>1285051622</td>\n      <td>21</td>\n      <td>21</td>\n      <td>21</td>\n      <td>21</td>\n      <td>21</td>\n      <td>21</td>\n      <td>21</td>\n    </tr>\n    <tr>\n      <th>...</th>\n      <td>...</td>\n      <td>...</td>\n      <td>...</td>\n      <td>...</td>\n      <td>...</td>\n      <td>...</td>\n      <td>...</td>\n      <td>...</td>\n    </tr>\n    <tr>\n      <th>234</th>\n      <td>9741307878</td>\n      <td>5</td>\n      <td>5</td>\n      <td>5</td>\n      <td>5</td>\n      <td>5</td>\n      <td>5</td>\n      <td>5</td>\n    </tr>\n    <tr>\n      <th>235</th>\n      <td>9753855529</td>\n      <td>21</td>\n      <td>21</td>\n      <td>21</td>\n      <td>21</td>\n      <td>21</td>\n      <td>21</td>\n      <td>21</td>\n    </tr>\n    <tr>\n      <th>236</th>\n      <td>9806043737</td>\n      <td>6</td>\n      <td>6</td>\n      <td>6</td>\n      <td>6</td>\n      <td>6</td>\n      <td>6</td>\n      <td>6</td>\n    </tr>\n    <tr>\n      <th>237</th>\n      <td>9809476069</td>\n      <td>23</td>\n      <td>23</td>\n      <td>23</td>\n      <td>23</td>\n      <td>23</td>\n      <td>23</td>\n      <td>23</td>\n    </tr>\n    <tr>\n      <th>238</th>\n      <td>9980711012</td>\n      <td>5</td>\n      <td>5</td>\n      <td>5</td>\n      <td>5</td>\n      <td>5</td>\n      <td>5</td>\n      <td>5</td>\n    </tr>\n  </tbody>\n</table>\n<p>239 rows × 8 columns</p>\n</div>"
     },
     "metadata": {},
     "execution_count": 10
    }
   ],
   "source": [
    "tf=place_count[place_count.row_id>3].reset_index()\n",
    "tf"
   ]
  },
  {
   "cell_type": "code",
   "execution_count": 11,
   "metadata": {
    "tags": []
   },
   "outputs": [
    {
     "output_type": "execute_result",
     "data": {
      "text/plain": "            row_id       x       y  accuracy    place_id  day  hour  weekday\n600            600  1.2214  2.7023        17  6683426742    1    18        3\n957            957  1.1832  2.6891        58  6683426742   10     2        5\n4345          4345  1.1935  2.6550        11  6889790653    5    15        0\n4735          4735  1.1452  2.6074        49  6822359752    6    23        1\n5580          5580  1.0089  2.7287        19  1527921905    9    11        4\n...            ...     ...     ...       ...         ...  ...   ...      ...\n29100203  29100203  1.0129  2.6775        12  3312463746    1    10        3\n29108443  29108443  1.1474  2.6840        36  3533177779    7    23        2\n29109993  29109993  1.0240  2.7238        62  6424972551    8    15        3\n29111539  29111539  1.2032  2.6796        87  3533177779    4     0        6\n29112154  29112154  1.1070  2.5419       178  4932578245    8    23        3\n\n[16918 rows x 8 columns]",
      "text/html": "<div>\n<style scoped>\n    .dataframe tbody tr th:only-of-type {\n        vertical-align: middle;\n    }\n\n    .dataframe tbody tr th {\n        vertical-align: top;\n    }\n\n    .dataframe thead th {\n        text-align: right;\n    }\n</style>\n<table border=\"1\" class=\"dataframe\">\n  <thead>\n    <tr style=\"text-align: right;\">\n      <th></th>\n      <th>row_id</th>\n      <th>x</th>\n      <th>y</th>\n      <th>accuracy</th>\n      <th>place_id</th>\n      <th>day</th>\n      <th>hour</th>\n      <th>weekday</th>\n    </tr>\n  </thead>\n  <tbody>\n    <tr>\n      <th>600</th>\n      <td>600</td>\n      <td>1.2214</td>\n      <td>2.7023</td>\n      <td>17</td>\n      <td>6683426742</td>\n      <td>1</td>\n      <td>18</td>\n      <td>3</td>\n    </tr>\n    <tr>\n      <th>957</th>\n      <td>957</td>\n      <td>1.1832</td>\n      <td>2.6891</td>\n      <td>58</td>\n      <td>6683426742</td>\n      <td>10</td>\n      <td>2</td>\n      <td>5</td>\n    </tr>\n    <tr>\n      <th>4345</th>\n      <td>4345</td>\n      <td>1.1935</td>\n      <td>2.6550</td>\n      <td>11</td>\n      <td>6889790653</td>\n      <td>5</td>\n      <td>15</td>\n      <td>0</td>\n    </tr>\n    <tr>\n      <th>4735</th>\n      <td>4735</td>\n      <td>1.1452</td>\n      <td>2.6074</td>\n      <td>49</td>\n      <td>6822359752</td>\n      <td>6</td>\n      <td>23</td>\n      <td>1</td>\n    </tr>\n    <tr>\n      <th>5580</th>\n      <td>5580</td>\n      <td>1.0089</td>\n      <td>2.7287</td>\n      <td>19</td>\n      <td>1527921905</td>\n      <td>9</td>\n      <td>11</td>\n      <td>4</td>\n    </tr>\n    <tr>\n      <th>...</th>\n      <td>...</td>\n      <td>...</td>\n      <td>...</td>\n      <td>...</td>\n      <td>...</td>\n      <td>...</td>\n      <td>...</td>\n      <td>...</td>\n    </tr>\n    <tr>\n      <th>29100203</th>\n      <td>29100203</td>\n      <td>1.0129</td>\n      <td>2.6775</td>\n      <td>12</td>\n      <td>3312463746</td>\n      <td>1</td>\n      <td>10</td>\n      <td>3</td>\n    </tr>\n    <tr>\n      <th>29108443</th>\n      <td>29108443</td>\n      <td>1.1474</td>\n      <td>2.6840</td>\n      <td>36</td>\n      <td>3533177779</td>\n      <td>7</td>\n      <td>23</td>\n      <td>2</td>\n    </tr>\n    <tr>\n      <th>29109993</th>\n      <td>29109993</td>\n      <td>1.0240</td>\n      <td>2.7238</td>\n      <td>62</td>\n      <td>6424972551</td>\n      <td>8</td>\n      <td>15</td>\n      <td>3</td>\n    </tr>\n    <tr>\n      <th>29111539</th>\n      <td>29111539</td>\n      <td>1.2032</td>\n      <td>2.6796</td>\n      <td>87</td>\n      <td>3533177779</td>\n      <td>4</td>\n      <td>0</td>\n      <td>6</td>\n    </tr>\n    <tr>\n      <th>29112154</th>\n      <td>29112154</td>\n      <td>1.1070</td>\n      <td>2.5419</td>\n      <td>178</td>\n      <td>4932578245</td>\n      <td>8</td>\n      <td>23</td>\n      <td>3</td>\n    </tr>\n  </tbody>\n</table>\n<p>16918 rows × 8 columns</p>\n</div>"
     },
     "metadata": {},
     "execution_count": 11
    }
   ],
   "source": [
    "data=data[data['place_id'].isin(tf.place_id)]\n",
    "data"
   ]
  },
  {
   "cell_type": "code",
   "execution_count": 12,
   "metadata": {},
   "outputs": [],
   "source": [
    "# 取出数据中的特征值和目标值\n",
    "y=data['place_id']\n",
    "x=data.drop(['place_id'],axis=1)"
   ]
  },
  {
   "cell_type": "code",
   "execution_count": 13,
   "metadata": {},
   "outputs": [],
   "source": [
    "# 进行分割训练集和测试集\n",
    "x_train,x_test,y_train,y_test=train_test_split(x,y,test_size=0.25)"
   ]
  },
  {
   "cell_type": "code",
   "execution_count": 14,
   "metadata": {},
   "outputs": [],
   "source": [
    "# 特征工程（标准化）\n",
    "sta=StandardScaler()\n",
    "# 对测试集和训练集的特征值进行标准化\n",
    "x_train=sta.fit_transform(x_train)\n",
    "x_test=sta.transform(x_test)"
   ]
  },
  {
   "cell_type": "code",
   "execution_count": 15,
   "metadata": {},
   "outputs": [
    {
     "output_type": "execute_result",
     "data": {
      "text/plain": "KNeighborsClassifier()"
     },
     "metadata": {},
     "execution_count": 15
    }
   ],
   "source": [
    "knn=KNeighborsClassifier(n_neighbors=5)\n",
    "knn.fit(x_train,y_train)"
   ]
  },
  {
   "cell_type": "code",
   "execution_count": 16,
   "metadata": {},
   "outputs": [
    {
     "output_type": "execute_result",
     "data": {
      "text/plain": "array([2814307842, 1097200869, 5270522918, ..., 6683426742, 2584530303,\n       6683426742], dtype=int64)"
     },
     "metadata": {},
     "execution_count": 16
    }
   ],
   "source": [
    "# 得出预测结果\n",
    "y_predict=knn.predict(x_test)\n",
    "y_predict"
   ]
  },
  {
   "cell_type": "code",
   "execution_count": 17,
   "metadata": {},
   "outputs": [
    {
     "output_type": "execute_result",
     "data": {
      "text/plain": "0.41749408983451536"
     },
     "metadata": {},
     "execution_count": 17
    }
   ],
   "source": [
    "# 预测的准确率\n",
    "knn.score(x_test,y_test)"
   ]
  },
  {
   "cell_type": "code",
   "execution_count": 6,
   "metadata": {
    "tags": []
   },
   "outputs": [
    {
     "output_type": "stream",
     "name": "stdout",
     "text": "在测试集的准确率： 0.41843971631205673\n"
    }
   ],
   "source": [
    "# 进行网格搜索例子\n",
    "\n",
    "# 读取数据\n",
    "data=pd.read_csv(r'C:\\Users\\17575\\VSCode\\机器学习\\Data\\day_2\\train.csv')\n",
    "\n",
    "# 处理数据\n",
    "# 1、缩小数据,查询数据筛选\n",
    "data=data.query('x>1.0 & x<1.25 & y>2.5 & y<2.75')\n",
    "\n",
    "# 处理时间序列\n",
    "time_value=pd.to_datetime(data['time'],unit='s')\n",
    "\n",
    "# 日期格式转化为字典格式\n",
    "time_value=pd.DatetimeIndex(time_value)\n",
    "\n",
    "# 构造一些特征\n",
    "data['day']=time_value.day\n",
    "data['hour']=time_value.hour\n",
    "data['weekday']=time_value.weekday\n",
    "\n",
    "# 删除特征时间戳\n",
    "data=data.drop(['time'],axis=1)\n",
    "\n",
    "# 签到数量少于n个的删除\n",
    "place_count=data.groupby('place_id').count()\n",
    "\n",
    "tf=place_count[place_count.row_id>3].reset_index()\n",
    "\n",
    "data=data[data['place_id'].isin(tf.place_id)]\n",
    "\n",
    "# 取出数据中的特征值和目标值\n",
    "y=data['place_id']\n",
    "x=data.drop(['place_id'],axis=1)\n",
    "\n",
    "# 进行分割训练集和测试集\n",
    "x_train,x_test,y_train,y_test=train_test_split(x,y,test_size=0.25)\n",
    "\n",
    "# 特征工程（标准化）\n",
    "sta=StandardScaler()\n",
    "# 对测试集和训练集的特征值进行标准化\n",
    "x_train=sta.fit_transform(x_train)\n",
    "x_test=sta.transform(x_test)\n",
    "\n",
    "knn=KNeighborsClassifier()\n",
    "\n",
    "# 构造一些参数的值进行搜索\n",
    "param={'n_neighbors':[3,4,5,6,7,8,9,10]}\n",
    "\n",
    "gc=GridSearchCV(knn,param_grid=param,cv=10)\n",
    "gc.fit(x_train,y_train)\n",
    "\n",
    "# 预测准确率\n",
    "print('在测试集的准确率：',gc.score(x_test,y_test))"
   ]
  },
  {
   "cell_type": "code",
   "execution_count": 7,
   "metadata": {
    "tags": []
   },
   "outputs": [
    {
     "output_type": "stream",
     "name": "stdout",
     "text": "在交叉验证中最好的结果： 0.4240226164818419\n"
    }
   ],
   "source": [
    "print('在交叉验证中最好的结果：',gc.best_score_)"
   ]
  },
  {
   "cell_type": "code",
   "execution_count": 8,
   "metadata": {
    "tags": []
   },
   "outputs": [
    {
     "output_type": "stream",
     "name": "stdout",
     "text": "选择最好的模型是： KNeighborsClassifier(n_neighbors=9)\n"
    }
   ],
   "source": [
    "print('选择最好的模型是：',gc.best_estimator_)"
   ]
  },
  {
   "cell_type": "code",
   "execution_count": 9,
   "metadata": {
    "tags": []
   },
   "outputs": [
    {
     "output_type": "stream",
     "name": "stdout",
     "text": "每个超参数的结果： {'mean_fit_time': array([0.01991799, 0.02001777, 0.02001774, 0.01991777, 0.02001884,\n       0.02021935, 0.02032015, 0.02001772]), 'std_fit_time': array([3.00098754e-04, 4.01790131e-07, 3.24284327e-07, 3.00264396e-04,\n       4.47776262e-04, 3.99541659e-04, 4.57222296e-04, 4.15696997e-07]), 'mean_score_time': array([0.04414039, 0.04614213, 0.04864464, 0.05044611, 0.0521477 ,\n       0.05415127, 0.05555086, 0.0569524 ]), 'std_score_time': array([0.00070074, 0.00070067, 0.0004905 , 0.00049026, 0.00053897,\n       0.0007027 , 0.00067155, 0.00053901]), 'param_n_neighbors': masked_array(data=[3, 4, 5, 6, 7, 8, 9, 10],\n             mask=[False, False, False, False, False, False, False, False],\n       fill_value='?',\n            dtype=object), 'params': [{'n_neighbors': 3}, {'n_neighbors': 4}, {'n_neighbors': 5}, {'n_neighbors': 6}, {'n_neighbors': 7}, {'n_neighbors': 8}, {'n_neighbors': 9}, {'n_neighbors': 10}], 'split0_test_score': array([0.40977147, 0.40977147, 0.41449961, 0.43262411, 0.42947203,\n       0.42237983, 0.43026005, 0.43183609]), 'split1_test_score': array([0.37746257, 0.40189125, 0.40977147, 0.41449961, 0.41607565,\n       0.41765169, 0.42631994, 0.4215918 ]), 'split2_test_score': array([0.3821907 , 0.38849488, 0.40110323, 0.40740741, 0.41292356,\n       0.41686367, 0.42474389, 0.41843972]), 'split3_test_score': array([0.3750985 , 0.39795114, 0.40267928, 0.41843972, 0.41134752,\n       0.41292356, 0.41213554, 0.41607565]), 'split4_test_score': array([0.38140268, 0.39401103, 0.41371158, 0.42001576, 0.41528763,\n       0.42237983, 0.428684  , 0.428684  ]), 'split5_test_score': array([0.39007092, 0.40189125, 0.40583136, 0.41371158, 0.41607565,\n       0.41449961, 0.41607565, 0.42080378]), 'split6_test_score': array([0.39479905, 0.40661939, 0.41449961, 0.4215918 , 0.42631994,\n       0.42789598, 0.43735225, 0.43026005]), 'split7_test_score': array([0.39952719, 0.41686367, 0.40740741, 0.41134752, 0.41922774,\n       0.41528763, 0.41765169, 0.41371158]), 'split8_test_score': array([0.39511041, 0.40141956, 0.40536278, 0.4148265 , 0.41798107,\n       0.41955836, 0.42665615, 0.43138801]), 'split9_test_score': array([0.38170347, 0.40141956, 0.41088328, 0.42507886, 0.420347  ,\n       0.42507886, 0.420347  , 0.41403785]), 'mean_test_score': array([0.3887137 , 0.40203332, 0.40857496, 0.41795429, 0.41850578,\n       0.4194519 , 0.42402262, 0.42268285]), 'std_test_score': array([0.01047501, 0.007523  , 0.00461673, 0.00691581, 0.00538587,\n       0.00463193, 0.00713864, 0.00688905]), 'rank_test_score': array([8, 7, 6, 5, 4, 3, 1, 2])}\n"
    }
   ],
   "source": [
    "print('每个超参数的结果：',gc.cv_results_)"
   ]
  },
  {
   "cell_type": "code",
   "execution_count": null,
   "metadata": {},
   "outputs": [],
   "source": []
  }
 ]
}