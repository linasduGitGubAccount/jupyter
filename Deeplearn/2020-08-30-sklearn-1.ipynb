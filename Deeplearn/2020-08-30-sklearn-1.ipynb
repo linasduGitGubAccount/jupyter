{
 "metadata": {
  "language_info": {
   "codemirror_mode": {
    "name": "ipython",
    "version": 3
   },
   "file_extension": ".py",
   "mimetype": "text/x-python",
   "name": "python",
   "nbconvert_exporter": "python",
   "pygments_lexer": "ipython3",
   "version": "3.8.3-final"
  },
  "orig_nbformat": 2,
  "kernelspec": {
   "name": "python_defaultSpec_1598813814335",
   "display_name": "Python 3.8.3 64-bit ('base': conda)"
  }
 },
 "nbformat": 4,
 "nbformat_minor": 2,
 "cells": [
  {
   "cell_type": "markdown",
   "metadata": {},
   "source": [
    "# Sklearn学习之朴素贝叶斯"
   ]
  },
  {
   "cell_type": "code",
   "execution_count": 1,
   "metadata": {},
   "outputs": [],
   "source": [
    "from sklearn.datasets import fetch_20newsgroups\n",
    "from sklearn.preprocessing import StandardScaler\n",
    "from sklearn.feature_extraction.text import TfidfVectorizer\n",
    "from sklearn.model_selection import train_test_split,GridSearchCV\n",
    "from sklearn.naive_bayes import MultinomialNB\n",
    "from sklearn.metrics import classification_report\n",
    "import pandas as pd\n",
    "from sklearn.feature_extraction import DictVectorizer\n",
    "from sklearn.tree import DecisionTreeClassifier,export_graphviz\n",
    "from sklearn.ensemble import RandomForestClassifier"
   ]
  },
  {
   "cell_type": "code",
   "execution_count": 2,
   "metadata": {},
   "outputs": [],
   "source": [
    "news=fetch_20newsgroups(subset='all')"
   ]
  },
  {
   "cell_type": "code",
   "execution_count": 3,
   "metadata": {},
   "outputs": [],
   "source": [
    "# 进行数据分割\n",
    "x_train,x_test,y_train,y_test=train_test_split(news.data,news.target,test_size=(0.25))"
   ]
  },
  {
   "cell_type": "code",
   "execution_count": 4,
   "metadata": {},
   "outputs": [],
   "source": [
    "# 对数据进行特征抽取\n",
    "tf=TfidfVectorizer()"
   ]
  },
  {
   "cell_type": "code",
   "execution_count": 5,
   "metadata": {},
   "outputs": [],
   "source": [
    "#  以训练集当中的词的列表进行每篇文章重要性统计\n",
    "x_train=tf.fit_transform(x_train)"
   ]
  },
  {
   "cell_type": "code",
   "execution_count": 6,
   "metadata": {},
   "outputs": [],
   "source": [
    "# 注意这里不能再次fit\n",
    "x_test=tf.transform(x_test)"
   ]
  },
  {
   "cell_type": "code",
   "execution_count": 7,
   "metadata": {},
   "outputs": [
    {
     "output_type": "execute_result",
     "data": {
      "text/plain": "MultinomialNB()"
     },
     "metadata": {},
     "execution_count": 7
    }
   ],
   "source": [
    "# 进行朴素贝叶斯算法预测\n",
    "mlt=MultinomialNB(alpha=1.0)\n",
    "mlt.fit(x_train,y_train)"
   ]
  },
  {
   "cell_type": "code",
   "execution_count": 8,
   "metadata": {},
   "outputs": [],
   "source": [
    "y_predict=mlt.predict(x_test) "
   ]
  },
  {
   "cell_type": "code",
   "execution_count": 9,
   "metadata": {},
   "outputs": [
    {
     "output_type": "execute_result",
     "data": {
      "text/plain": "0.8508064516129032"
     },
     "metadata": {},
     "execution_count": 9
    }
   ],
   "source": [
    "mlt.score(x_test,y_test)"
   ]
  },
  {
   "cell_type": "code",
   "execution_count": 12,
   "metadata": {
    "tags": []
   },
   "outputs": [
    {
     "output_type": "stream",
     "name": "stdout",
     "text": "precision    recall  f1-score   support\n\n             alt.atheism       0.87      0.77      0.82       198\n           comp.graphics       0.86      0.73      0.79       244\n comp.os.ms-windows.misc       0.88      0.85      0.87       248\ncomp.sys.ibm.pc.hardware       0.79      0.84      0.82       264\n   comp.sys.mac.hardware       0.95      0.87      0.91       243\n          comp.windows.x       0.93      0.85      0.89       253\n            misc.forsale       0.93      0.70      0.80       272\n               rec.autos       0.93      0.90      0.91       267\n         rec.motorcycles       0.95      0.95      0.95       256\n      rec.sport.baseball       0.93      0.98      0.96       243\n        rec.sport.hockey       0.94      0.97      0.95       239\n               sci.crypt       0.69      0.99      0.81       236\n         sci.electronics       0.85      0.82      0.84       236\n                 sci.med       0.98      0.83      0.90       241\n               sci.space       0.91      0.94      0.92       263\n  soc.religion.christian       0.52      0.99      0.68       228\n      talk.politics.guns       0.76      0.96      0.85       214\n   talk.politics.mideast       0.90      0.97      0.93       231\n      talk.politics.misc       0.99      0.67      0.80       178\n      talk.religion.misc       1.00      0.16      0.28       158\n\n                accuracy                           0.85      4712\n               macro avg       0.88      0.84      0.83      4712\n            weighted avg       0.88      0.85      0.85      4712\n\n"
    }
   ],
   "source": [
    "# 产生分类报告\n",
    "# 每个类别的精确率和召回率\n",
    "print(classification_report(y_test,y_predict,target_names=news.target_names))"
   ]
  },
  {
   "cell_type": "markdown",
   "metadata": {},
   "source": [
    "# sklearn学习之决策树"
   ]
  },
  {
   "cell_type": "code",
   "execution_count": 2,
   "metadata": {},
   "outputs": [],
   "source": [
    "# 读取数据\n",
    "titan=pd.read_csv('http://biostat.mc.vanderbilt.edu/wiki/pub/Main/DataSets/titanic.txt')"
   ]
  },
  {
   "cell_type": "code",
   "execution_count": 3,
   "metadata": {},
   "outputs": [],
   "source": [
    "x=titan[['pclass','age','sex']]\n",
    "y=titan['survived']"
   ]
  },
  {
   "cell_type": "code",
   "execution_count": 4,
   "metadata": {},
   "outputs": [],
   "source": [
    "# 处理缺失值\n",
    "x['age'].fillna(x['age'].mean(),inplace=True)"
   ]
  },
  {
   "cell_type": "code",
   "execution_count": 5,
   "metadata": {},
   "outputs": [],
   "source": [
    "# 分割数据集到训练集和测试集\n",
    "x_train,x_test,y_train,y_test=train_test_split(x,y,test_size=0.25)"
   ]
  },
  {
   "cell_type": "code",
   "execution_count": 6,
   "metadata": {},
   "outputs": [],
   "source": [
    "# 进行处理（特征处理），特征是类别时，用one_hot编码\n",
    "dict=DictVectorizer(sparse=False)\n",
    "x_train=dict.fit_transform(x_train.to_dict(orient='records'))\n",
    "x_test=dict.transform(x_test.to_dict(orient='records'))"
   ]
  },
  {
   "cell_type": "code",
   "execution_count": 9,
   "metadata": {},
   "outputs": [
    {
     "output_type": "execute_result",
     "data": {
      "text/plain": "['age', 'pclass=1st', 'pclass=2nd', 'pclass=3rd', 'sex=female', 'sex=male']"
     },
     "metadata": {},
     "execution_count": 9
    }
   ],
   "source": [
    "dict.get_feature_names()"
   ]
  },
  {
   "cell_type": "code",
   "execution_count": 13,
   "metadata": {
    "tags": []
   },
   "outputs": [
    {
     "output_type": "stream",
     "name": "stdout",
     "text": "[[31.19418104  0.          0.          1.          0.          1.        ]\n [23.          1.          0.          0.          1.          0.        ]\n [31.19418104  0.          1.          0.          1.          0.        ]\n ...\n [ 6.          1.          0.          0.          0.          1.        ]\n [31.19418104  0.          0.          1.          1.          0.        ]\n [25.          0.          1.          0.          1.          0.        ]]\n"
    }
   ],
   "source": [
    "print(x_train)"
   ]
  },
  {
   "cell_type": "code",
   "execution_count": 21,
   "metadata": {},
   "outputs": [
    {
     "output_type": "execute_result",
     "data": {
      "text/plain": "DecisionTreeClassifier()"
     },
     "metadata": {},
     "execution_count": 21
    }
   ],
   "source": [
    "# 用决策数进行预测\n",
    "dec=DecisionTreeClassifier()\n",
    "dec.fit(x_train,y_train)"
   ]
  },
  {
   "cell_type": "code",
   "execution_count": 22,
   "metadata": {
    "tags": []
   },
   "outputs": [
    {
     "output_type": "stream",
     "name": "stdout",
     "text": "预测的准确率： 0.7872340425531915\n"
    }
   ],
   "source": [
    "# 预测准确率\n",
    "print('预测的准确率：',dec.score(x_test,y_test))"
   ]
  },
  {
   "cell_type": "code",
   "execution_count": 25,
   "metadata": {},
   "outputs": [],
   "source": [
    "# 导出树的结构\n",
    "export_graphviz(dec,out_file='./tree.dot',feature_names=['age', 'pclass=1st', 'pclass=2nd', 'pclass=3rd', 'sex=female', 'sex=male'])"
   ]
  },
  {
   "cell_type": "markdown",
   "metadata": {},
   "source": [
    "# Sklearn学习之随机森林预测"
   ]
  },
  {
   "cell_type": "code",
   "execution_count": 2,
   "metadata": {},
   "outputs": [],
   "source": [
    "# 读取数据\n",
    "titan=pd.read_csv('http://biostat.mc.vanderbilt.edu/wiki/pub/Main/DataSets/titanic.txt')\n",
    "\n",
    "x=titan[['pclass','age','sex']]\n",
    "y=titan['survived']\n",
    "\n",
    "# 处理缺失值\n",
    "x['age'].fillna(x['age'].mean(),inplace=True)\n",
    "\n",
    "# 分割数据集到训练集和测试集\n",
    "x_train,x_test,y_train,y_test=train_test_split(x,y,test_size=0.25)\n",
    "\n",
    "# 进行处理（特征处理），特征是类别时，用one_hot编码\n",
    "dict=DictVectorizer(sparse=False)\n",
    "x_train=dict.fit_transform(x_train.to_dict(orient='records'))\n",
    "x_test=dict.transform(x_test.to_dict(orient='records'))"
   ]
  },
  {
   "cell_type": "code",
   "execution_count": 3,
   "metadata": {},
   "outputs": [
    {
     "output_type": "execute_result",
     "data": {
      "text/plain": "GridSearchCV(cv=10, estimator=RandomForestClassifier(),\n             param_grid={'max_depth': [5, 8, 15, 25, 30],\n                         'n_estimators': [120, 200, 300, 500, 800, 1200]})"
     },
     "metadata": {},
     "execution_count": 3
    }
   ],
   "source": [
    "# 随机森林预测\n",
    "rf=RandomForestClassifier()\n",
    "\n",
    "# 设置参数\n",
    "param={'n_estimators':[120,200,300,500,800,1200],'max_depth':[5,8,15,25,30]}\n",
    "\n",
    "# 网格搜索与交叉验证\n",
    "gc=GridSearchCV(rf,param_grid=param,cv=10)\n",
    "\n",
    "gc.fit(x_train,y_train)"
   ]
  },
  {
   "cell_type": "code",
   "execution_count": 4,
   "metadata": {
    "tags": []
   },
   "outputs": [
    {
     "output_type": "stream",
     "name": "stdout",
     "text": "预测准确率为： 0.8115501519756839\n"
    }
   ],
   "source": [
    "print('预测准确率为：',gc.score(x_test,y_test))"
   ]
  },
  {
   "cell_type": "code",
   "execution_count": 5,
   "metadata": {
    "tags": []
   },
   "outputs": [
    {
     "output_type": "stream",
     "name": "stdout",
     "text": "查看选择参数模型： {'max_depth': 5, 'n_estimators': 300}\n"
    }
   ],
   "source": [
    "print('查看选择参数模型：',gc.best_params_)"
   ]
  },
  {
   "cell_type": "code",
   "execution_count": null,
   "metadata": {},
   "outputs": [],
   "source": []
  }
 ]
}