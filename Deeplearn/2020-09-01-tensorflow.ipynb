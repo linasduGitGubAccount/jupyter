{
 "metadata": {
  "language_info": {
   "codemirror_mode": {
    "name": "ipython",
    "version": 3
   },
   "file_extension": ".py",
   "mimetype": "text/x-python",
   "name": "python",
   "nbconvert_exporter": "python",
   "pygments_lexer": "ipython3",
   "version": "3.5.6-final"
  },
  "orig_nbformat": 2,
  "kernelspec": {
   "name": "python_defaultSpec_1598988856400",
   "display_name": "Python 3.5.6 64-bit ('python35': conda)"
  }
 },
 "nbformat": 4,
 "nbformat_minor": 2,
 "cells": [
  {
   "cell_type": "markdown",
   "metadata": {},
   "source": [
    "# Tensorflow学习"
   ]
  },
  {
   "cell_type": "code",
   "execution_count": 1,
   "metadata": {},
   "outputs": [],
   "source": [
    "import tensorflow as tf"
   ]
  },
  {
   "cell_type": "code",
   "execution_count": 2,
   "metadata": {
    "tags": []
   },
   "outputs": [
    {
     "output_type": "stream",
     "name": "stdout",
     "text": "<tensorflow.python.framework.ops.Graph object at 0x0000029C6953A4E0>\n<tensorflow.python.framework.ops.Graph object at 0x0000029C6953A4E0>\n"
    }
   ],
   "source": [
    "# 创建一张图,上下文环境\n",
    "g=tf.Graph()\n",
    "\n",
    "print(g)\n",
    "\n",
    "with g.as_default():\n",
    "    c=tf.constant(11.0)\n",
    "    print(c.graph)"
   ]
  },
  {
   "cell_type": "code",
   "execution_count": 3,
   "metadata": {},
   "outputs": [],
   "source": [
    "# 实现一个加法运算\n",
    "a=tf.constant(5.0)\n",
    "b=tf.constant(6.0)\n",
    "sum1=tf.add(a,b)"
   ]
  },
  {
   "cell_type": "code",
   "execution_count": 5,
   "metadata": {},
   "outputs": [
    {
     "output_type": "execute_result",
     "data": {
      "text/plain": "<tensorflow.python.framework.ops.Graph at 0x29c6953abe0>"
     },
     "metadata": {},
     "execution_count": 5
    }
   ],
   "source": [
    "tf.get_default_graph()"
   ]
  },
  {
   "cell_type": "code",
   "execution_count": 7,
   "metadata": {
    "tags": []
   },
   "outputs": [
    {
     "output_type": "stream",
     "name": "stdout",
     "text": "11.0\n"
    }
   ],
   "source": [
    "# 只能运行一个图结构\n",
    "with tf.Session() as sess:\n",
    "    print(sess.run(sum1))"
   ]
  },
  {
   "cell_type": "code",
   "execution_count": 7,
   "metadata": {},
   "outputs": [
    {
     "output_type": "execute_result",
     "data": {
      "text/plain": "<tensorflow.python.framework.ops.Graph at 0x1ccdd6ecda0>"
     },
     "metadata": {},
     "execution_count": 7
    }
   ],
   "source": [
    "a.graph"
   ]
  },
  {
   "cell_type": "code",
   "execution_count": 8,
   "metadata": {},
   "outputs": [
    {
     "output_type": "execute_result",
     "data": {
      "text/plain": "<tensorflow.python.framework.ops.Graph at 0x1ccdd6ecda0>"
     },
     "metadata": {},
     "execution_count": 8
    }
   ],
   "source": [
    "sum1.graph"
   ]
  },
  {
   "cell_type": "markdown",
   "metadata": {},
   "source": [
    "说明这张图在同一块内存当中"
   ]
  },
  {
   "cell_type": "code",
   "execution_count": 11,
   "metadata": {
    "tags": []
   },
   "outputs": [
    {
     "output_type": "stream",
     "name": "stdout",
     "text": "11.0\n"
    }
   ],
   "source": [
    "# 可以在会话中指定一张图\n",
    "with tf.Session(graph=g) as sess:\n",
    "    print(sess.run(c))"
   ]
  },
  {
   "cell_type": "markdown",
   "metadata": {},
   "source": [
    "sess.run()相当于启动某个图"
   ]
  },
  {
   "cell_type": "code",
   "execution_count": 14,
   "metadata": {
    "tags": []
   },
   "outputs": [
    {
     "output_type": "stream",
     "name": "stdout",
     "text": "11.0\n"
    }
   ],
   "source": [
    "with tf.Session(config=tf.ConfigProto(log_device_placement=True)) as sess:\n",
    "    print(sess.run(sum1))"
   ]
  },
  {
   "cell_type": "code",
   "execution_count": 18,
   "metadata": {
    "tags": []
   },
   "outputs": [
    {
     "output_type": "stream",
     "name": "stdout",
     "text": "Tensor(\"Placeholder_2:0\", shape=(?, 3), dtype=float32)\n[[1. 2. 3.]\n [4. 5. 6.]]\n********************\n()\n********************\n(?, 3)\n********************\nConst:0\n********************\nname: \"Const\"\nop: \"Const\"\nattr {\n  key: \"dtype\"\n  value {\n    type: DT_FLOAT\n  }\n}\nattr {\n  key: \"value\"\n  value {\n    tensor {\n      dtype: DT_FLOAT\n      tensor_shape {\n      }\n      float_val: 5.0\n    }\n  }\n}\n\n"
    }
   ],
   "source": [
    "# placeholder相当于一个占位符,feed_dict是一个字典\n",
    "# plt=tf.placeholder(tf.float32,[2,3])\n",
    "plt=tf.placeholder(tf.float32,[None,3])\n",
    "print(plt)\n",
    "with tf.Session(config=tf.ConfigProto(log_device_placement=True)) as sess:\n",
    "    print(sess.run(plt,feed_dict={plt:[[1,2,3],[4,5,6]]}))\n",
    "    print('*'*20)\n",
    "    print(a.shape)\n",
    "    print('*'*20)\n",
    "    print(plt.shape)\n",
    "    print('*'*20)\n",
    "    print(a.name)\n",
    "    print('*'*20)\n",
    "    print(a.op)"
   ]
  },
  {
   "cell_type": "code",
   "execution_count": 19,
   "metadata": {},
   "outputs": [
    {
     "output_type": "execute_result",
     "data": {
      "text/plain": "TensorShape([])"
     },
     "metadata": {},
     "execution_count": 19
    }
   ],
   "source": [
    "a.shape"
   ]
  },
  {
   "cell_type": "code",
   "execution_count": 20,
   "metadata": {},
   "outputs": [
    {
     "output_type": "execute_result",
     "data": {
      "text/plain": "TensorShape([Dimension(None), Dimension(3)])"
     },
     "metadata": {},
     "execution_count": 20
    }
   ],
   "source": [
    "plt.shape"
   ]
  },
  {
   "cell_type": "code",
   "execution_count": 21,
   "metadata": {},
   "outputs": [
    {
     "output_type": "execute_result",
     "data": {
      "text/plain": "'Const:0'"
     },
     "metadata": {},
     "execution_count": 21
    }
   ],
   "source": [
    "a.name"
   ]
  },
  {
   "cell_type": "code",
   "execution_count": 22,
   "metadata": {},
   "outputs": [
    {
     "output_type": "execute_result",
     "data": {
      "text/plain": "<tf.Operation 'Const' type=Const>"
     },
     "metadata": {},
     "execution_count": 22
    }
   ],
   "source": [
    "a.op"
   ]
  },
  {
   "cell_type": "markdown",
   "metadata": {},
   "source": [
    "0维：()  \n",
    "1维：(5)  \n",
    "2维：(5,6)  \n",
    "3维：(2,3,4)"
   ]
  },
  {
   "cell_type": "code",
   "execution_count": 23,
   "metadata": {},
   "outputs": [
    {
     "output_type": "execute_result",
     "data": {
      "text/plain": "<tf.Tensor 'Placeholder_3:0' shape=(?, 2) dtype=float32>"
     },
     "metadata": {},
     "execution_count": 23
    }
   ],
   "source": [
    "# 设置形状\n",
    "plt=tf.placeholder(tf.float32,[None,2])\n",
    "plt"
   ]
  },
  {
   "cell_type": "code",
   "execution_count": 25,
   "metadata": {},
   "outputs": [
    {
     "output_type": "execute_result",
     "data": {
      "text/plain": "<tf.Tensor 'Placeholder_3:0' shape=(4, 2) dtype=float32>"
     },
     "metadata": {},
     "execution_count": 25
    }
   ],
   "source": [
    "plt.set_shape([4,2])\n",
    "plt"
   ]
  },
  {
   "cell_type": "code",
   "execution_count": null,
   "metadata": {},
   "outputs": [],
   "source": [
    "# 对于静态形状来说，一旦张量形状固定了，不能再次设置形状 不能跨纬度修改\n",
    "# plt.set_shape([3,2])\n",
    "# ValueError: Shapes (4, 2) and (3, 2) are not compatible"
   ]
  },
  {
   "cell_type": "code",
   "execution_count": 28,
   "metadata": {},
   "outputs": [
    {
     "output_type": "execute_result",
     "data": {
      "text/plain": "<tf.Tensor 'Reshape_1:0' shape=(2, 4) dtype=float32>"
     },
     "metadata": {},
     "execution_count": 28
    }
   ],
   "source": [
    "# 动态形状，改变时元素一定要匹配\n",
    "plt_reshape=tf.reshape(plt,[2,4])\n",
    "plt_reshape"
   ]
  },
  {
   "cell_type": "markdown",
   "metadata": {},
   "source": [
    "张量操作，生成张量"
   ]
  },
  {
   "cell_type": "code",
   "execution_count": 8,
   "metadata": {},
   "outputs": [
    {
     "output_type": "execute_result",
     "data": {
      "text/plain": "<tensorflow.python.client.session.InteractiveSession at 0x29c03c08320>"
     },
     "metadata": {},
     "execution_count": 8
    }
   ],
   "source": [
    "# 开启交互式会话\n",
    "tf.InteractiveSession()"
   ]
  },
  {
   "cell_type": "code",
   "execution_count": 33,
   "metadata": {},
   "outputs": [
    {
     "output_type": "execute_result",
     "data": {
      "text/plain": "array([[0., 0., 0., 0.],\n       [0., 0., 0., 0.],\n       [0., 0., 0., 0.]], dtype=float32)"
     },
     "metadata": {},
     "execution_count": 33
    }
   ],
   "source": [
    "zero=tf.zeros([3,4],tf.float32)\n",
    "zero.eval()"
   ]
  },
  {
   "cell_type": "code",
   "execution_count": 37,
   "metadata": {},
   "outputs": [
    {
     "output_type": "execute_result",
     "data": {
      "text/plain": "array([[1., 1., 1., 1.],\n       [1., 1., 1., 1.],\n       [1., 1., 1., 1.]], dtype=float32)"
     },
     "metadata": {},
     "execution_count": 37
    }
   ],
   "source": [
    "ones=tf.ones([3,4],tf.float32)\n",
    "ones.eval()"
   ]
  },
  {
   "cell_type": "code",
   "execution_count": 35,
   "metadata": {},
   "outputs": [
    {
     "output_type": "execute_result",
     "data": {
      "text/plain": "array([3., 4.], dtype=float32)"
     },
     "metadata": {},
     "execution_count": 35
    }
   ],
   "source": [
    "constant=tf.constant([3,4],tf.float32)\n",
    "constant.eval()"
   ]
  },
  {
   "cell_type": "code",
   "execution_count": 4,
   "metadata": {},
   "outputs": [
    {
     "output_type": "execute_result",
     "data": {
      "text/plain": "array([[1, 2, 3],\n       [4, 4, 6]])"
     },
     "metadata": {},
     "execution_count": 4
    }
   ],
   "source": [
    "test=tf.cast([[1,2,3],[4,4.5,6]],tf.int32)\n",
    "test.eval()"
   ]
  },
  {
   "cell_type": "code",
   "execution_count": 6,
   "metadata": {},
   "outputs": [
    {
     "output_type": "execute_result",
     "data": {
      "text/plain": "array([[7, 8, 5],\n       [6, 9, 1],\n       [4, 5, 6],\n       [1, 2, 3]])"
     },
     "metadata": {},
     "execution_count": 6
    }
   ],
   "source": [
    "# 列表的合并\n",
    "a=[[7,8,5],[6,9,1]]\n",
    "b=[[4,5,6],[1,2,3]]\n",
    "c=tf.concat([a,b],axis=0)\n",
    "c.eval()"
   ]
  },
  {
   "cell_type": "markdown",
   "metadata": {},
   "source": [
    "# Tensorflow里的变量"
   ]
  },
  {
   "cell_type": "code",
   "execution_count": 15,
   "metadata": {},
   "outputs": [],
   "source": [
    "a=tf.constant([1,2,3,4,5],name='a')\n",
    "var=tf.Variable(tf.random_normal([2,3],mean=0.0,stddev=1.0),name='var')"
   ]
  },
  {
   "cell_type": "code",
   "execution_count": 16,
   "metadata": {
    "tags": []
   },
   "outputs": [
    {
     "output_type": "stream",
     "name": "stdout",
     "text": "Tensor(\"a:0\", shape=(5,), dtype=int32) Tensor(\"var/read:0\", shape=(2, 3), dtype=float32)\n"
    }
   ],
   "source": [
    "print(a,var)"
   ]
  },
  {
   "cell_type": "code",
   "execution_count": 11,
   "metadata": {},
   "outputs": [],
   "source": [
    "# 必须做一部现实的初始化\n",
    "init_op=tf.global_variables_initializer()"
   ]
  },
  {
   "cell_type": "code",
   "execution_count": 5,
   "metadata": {
    "tags": []
   },
   "outputs": [
    {
     "output_type": "stream",
     "name": "stdout",
     "text": "[array([1, 2, 3, 4, 5]), array([[ 0.16678654,  1.8401545 , -1.8440102 ],\n       [-0.10111339,  0.25699118,  0.44848678]], dtype=float32)]\n"
    }
   ],
   "source": [
    "with tf.Session() as sess:\n",
    "    # 必须运行初始化op\n",
    "    sess.run(init_op)\n",
    "    print(sess.run([a,var]))"
   ]
  },
  {
   "cell_type": "markdown",
   "metadata": {},
   "source": [
    "### 总结  \n",
    "1、变量能持久化保存，普通op不能  \n",
    "2、当定义一个变量op时候必须在会话中初始化  \n",
    "3、name参数：在tensorboard使用的时候显示名字，可以让相同op进行区分"
   ]
  },
  {
   "cell_type": "markdown",
   "metadata": {},
   "source": [
    "# Tensorflow的可视化"
   ]
  },
  {
   "cell_type": "code",
   "execution_count": 14,
   "metadata": {
    "tags": []
   },
   "outputs": [
    {
     "output_type": "stream",
     "name": "stdout",
     "text": "[array([1, 2, 3, 4, 5]), array([[-0.3551535 ,  0.4698463 , -2.7322927 ],\n       [-1.0268147 , -1.3277575 , -0.52979785]], dtype=float32)]\n"
    }
   ],
   "source": [
    "with tf.Session() as sess:\n",
    "    # 必须运行初始化op\n",
    "    sess.run(init_op)\n",
    "    # 把程序的图写入指定路径\n",
    "    filewrite=tf.summary.FileWriter('Data/tem/',graph=sess.graph)\n",
    "    print(sess.run([a,var]))"
   ]
  },
  {
   "cell_type": "markdown",
   "metadata": {},
   "source": [
    "启动服务命令  \n",
    "tensorboard --logdir=C:\\Users\\17575\\VSCode\\机器学习\\Data\\tem  \n",
    "注意：目录并不需要加引号, logs 中有多个event 时，会生成scalar 的对比图，但 graph 只会展示最新的结果"
   ]
  },
  {
   "cell_type": "code",
   "execution_count": null,
   "metadata": {},
   "outputs": [],
   "source": []
  }
 ]
}