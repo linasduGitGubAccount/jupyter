{
 "metadata": {
  "language_info": {
   "codemirror_mode": {
    "name": "ipython",
    "version": 3
   },
   "file_extension": ".py",
   "mimetype": "text/x-python",
   "name": "python",
   "nbconvert_exporter": "python",
   "pygments_lexer": "ipython3",
   "version": "3.8.3-final"
  },
  "orig_nbformat": 2,
  "kernelspec": {
   "name": "python_defaultSpec_1597946712906",
   "display_name": "Python 3.8.3 64-bit ('base': conda)"
  }
 },
 "nbformat": 4,
 "nbformat_minor": 2,
 "cells": [
  {
   "cell_type": "code",
   "execution_count": 1,
   "metadata": {},
   "outputs": [],
   "source": [
    "import pandas as pd\n",
    "import numpy as np\n",
    "import time"
   ]
  },
  {
   "cell_type": "markdown",
   "metadata": {},
   "source": [
    "pandas中时间序列的处理--pd.date_range(start,end,periods,freq)  \n",
    "下面是这三个参数的基本用法"
   ]
  },
  {
   "cell_type": "code",
   "execution_count": 6,
   "metadata": {},
   "outputs": [
    {
     "output_type": "execute_result",
     "data": {
      "text/plain": "DatetimeIndex(['2017-12-30', '2017-12-31', '2018-01-01', '2018-01-02',\n               '2018-01-03', '2018-01-04', '2018-01-05', '2018-01-06',\n               '2018-01-07', '2018-01-08', '2018-01-09', '2018-01-10',\n               '2018-01-11', '2018-01-12', '2018-01-13', '2018-01-14',\n               '2018-01-15', '2018-01-16', '2018-01-17', '2018-01-18',\n               '2018-01-19', '2018-01-20', '2018-01-21', '2018-01-22',\n               '2018-01-23', '2018-01-24', '2018-01-25', '2018-01-26',\n               '2018-01-27', '2018-01-28', '2018-01-29', '2018-01-30',\n               '2018-01-31'],\n              dtype='datetime64[ns]', freq='D')"
     },
     "metadata": {},
     "execution_count": 6
    }
   ],
   "source": [
    "pd.date_range(start='20171230',end='20180131',freq='D')"
   ]
  },
  {
   "cell_type": "code",
   "execution_count": 4,
   "metadata": {},
   "outputs": [
    {
     "output_type": "execute_result",
     "data": {
      "text/plain": "DatetimeIndex(['2017-12-30', '2017-12-31', '2018-01-01', '2018-01-02',\n               '2018-01-03', '2018-01-04', '2018-01-05', '2018-01-06',\n               '2018-01-07', '2018-01-08'],\n              dtype='datetime64[ns]', freq='D')"
     },
     "metadata": {},
     "execution_count": 4
    }
   ],
   "source": [
    "pd.date_range(start='20171230',periods=10,freq='D')"
   ]
  },
  {
   "cell_type": "code",
   "execution_count": 5,
   "metadata": {},
   "outputs": [
    {
     "output_type": "execute_result",
     "data": {
      "text/plain": "DatetimeIndex(['2017-12-31', '2018-01-31', '2018-02-28', '2018-03-31',\n               '2018-04-30', '2018-05-31', '2018-06-30', '2018-07-31',\n               '2018-08-31', '2018-09-30'],\n              dtype='datetime64[ns]', freq='M')"
     },
     "metadata": {},
     "execution_count": 5
    }
   ],
   "source": [
    "pd.date_range(start='20171230',periods=10,freq='M')"
   ]
  },
  {
   "cell_type": "markdown",
   "metadata": {},
   "source": [
    "例子"
   ]
  },
  {
   "cell_type": "code",
   "execution_count": 5,
   "metadata": {},
   "outputs": [
    {
     "output_type": "execute_result",
     "data": {
      "text/plain": "                   0\n2017-01-01  0.794971\n2017-01-02  0.315437\n2017-01-03  0.210439\n2017-01-04  0.308178\n2017-01-05  0.254246\n2017-01-06  0.715691\n2017-01-07  0.074026\n2017-01-08  0.231996\n2017-01-09  0.373274\n2017-01-10  0.043023",
      "text/html": "<div>\n<style scoped>\n    .dataframe tbody tr th:only-of-type {\n        vertical-align: middle;\n    }\n\n    .dataframe tbody tr th {\n        vertical-align: top;\n    }\n\n    .dataframe thead th {\n        text-align: right;\n    }\n</style>\n<table border=\"1\" class=\"dataframe\">\n  <thead>\n    <tr style=\"text-align: right;\">\n      <th></th>\n      <th>0</th>\n    </tr>\n  </thead>\n  <tbody>\n    <tr>\n      <th>2017-01-01</th>\n      <td>0.794971</td>\n    </tr>\n    <tr>\n      <th>2017-01-02</th>\n      <td>0.315437</td>\n    </tr>\n    <tr>\n      <th>2017-01-03</th>\n      <td>0.210439</td>\n    </tr>\n    <tr>\n      <th>2017-01-04</th>\n      <td>0.308178</td>\n    </tr>\n    <tr>\n      <th>2017-01-05</th>\n      <td>0.254246</td>\n    </tr>\n    <tr>\n      <th>2017-01-06</th>\n      <td>0.715691</td>\n    </tr>\n    <tr>\n      <th>2017-01-07</th>\n      <td>0.074026</td>\n    </tr>\n    <tr>\n      <th>2017-01-08</th>\n      <td>0.231996</td>\n    </tr>\n    <tr>\n      <th>2017-01-09</th>\n      <td>0.373274</td>\n    </tr>\n    <tr>\n      <th>2017-01-10</th>\n      <td>0.043023</td>\n    </tr>\n  </tbody>\n</table>\n</div>"
     },
     "metadata": {},
     "execution_count": 5
    }
   ],
   "source": [
    "index=pd.date_range('20170101',periods=10)\n",
    "df=pd.DataFrame(np.random.rand(10),index=index)\n",
    "df"
   ]
  },
  {
   "cell_type": "markdown",
   "metadata": {},
   "source": [
    "上面函数np.random.rand()  \n",
    "通过本函数可以返回一个或一组服从“0~1”均匀分布的随机样本值。  \n",
    "随机样本取值范围是[0,1)，不包括1。 "
   ]
  },
  {
   "cell_type": "markdown",
   "metadata": {},
   "source": [
    "获得时间戳"
   ]
  },
  {
   "cell_type": "code",
   "execution_count": 2,
   "metadata": {
    "tags": []
   },
   "outputs": [
    {
     "output_type": "stream",
     "name": "stdout",
     "text": "1597949489.9552267\ntime.struct_time(tm_year=2020, tm_mon=8, tm_mday=21, tm_hour=2, tm_min=51, tm_sec=29, tm_wday=4, tm_yday=234, tm_isdst=0)\n2020-08-21\n"
    }
   ],
   "source": [
    "print(time.time())#获当前时间的时间戳\n",
    "print(time.localtime())#获取本地时间\n",
    "print(time.strftime('%Y-%m-%d',time.localtime()))#时间格式化"
   ]
  },
  {
   "cell_type": "code",
   "execution_count": 14,
   "metadata": {},
   "outputs": [
    {
     "output_type": "execute_result",
     "data": {
      "text/plain": "'2020-08-20'"
     },
     "metadata": {},
     "execution_count": 14
    }
   ],
   "source": [
    "t1=time.strftime('%Y-%m-%d',time.localtime())\n",
    "t1"
   ]
  },
  {
   "cell_type": "markdown",
   "metadata": {},
   "source": [
    "运用pd提供的方法把时间字符串转化为时间序列,format对时间进行格式化"
   ]
  },
  {
   "cell_type": "code",
   "execution_count": 15,
   "metadata": {},
   "outputs": [
    {
     "output_type": "execute_result",
     "data": {
      "text/plain": "Timestamp('2020-08-20 00:00:00')"
     },
     "metadata": {},
     "execution_count": 15
    }
   ],
   "source": [
    "pd.to_datetime(t1,format='')"
   ]
  },
  {
   "cell_type": "markdown",
   "metadata": {},
   "source": [
    "t.resample('M').mean()方法按照月份统计平均值  \n",
    "t.resample('10D').count()方法按照每10天进行一次统计.."
   ]
  },
  {
   "cell_type": "code",
   "execution_count": null,
   "metadata": {},
   "outputs": [],
   "source": []
  },
  {
   "cell_type": "markdown",
   "metadata": {},
   "source": []
  }
 ]
}